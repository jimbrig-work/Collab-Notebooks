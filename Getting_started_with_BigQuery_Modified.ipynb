{
  "nbformat": 4,
  "nbformat_minor": 0,
  "metadata": {
    "colab": {
      "name": "Getting started with BigQuery - Modified",
      "provenance": [],
      "collapsed_sections": [],
      "include_colab_link": true
    },
    "kernelspec": {
      "display_name": "Python 3",
      "name": "python3"
    }
  },
  "cells": [
    {
      "cell_type": "markdown",
      "metadata": {
        "id": "view-in-github",
        "colab_type": "text"
      },
      "source": [
        "<a href=\"https://colab.research.google.com/github/jimbrig-work/Work-Vault/blob/main/Getting_started_with_BigQuery_Modified.ipynb\" target=\"_parent\"><img src=\"https://colab.research.google.com/assets/colab-badge.svg\" alt=\"Open In Colab\"/></a>"
      ]
    },
    {
      "cell_type": "markdown",
      "metadata": {
        "id": "qTmLBxDxBAZL"
      },
      "source": [
        "### Provide your credentials to the runtime"
      ]
    },
    {
      "cell_type": "code",
      "metadata": {
        "id": "SeTJb51SKs_W",
        "colab": {
          "base_uri": "https://localhost:8080/"
        },
        "outputId": "afb49ee1-5b5e-405b-ea0f-584c18218f48"
      },
      "source": [
        "from google.colab import auth\n",
        "auth.authenticate_user()\n",
        "print('Authenticated')"
      ],
      "execution_count": null,
      "outputs": [
        {
          "name": "stdout",
          "output_type": "stream",
          "text": [
            "Go to the following link in your browser:\n",
            "\n",
            "    https://accounts.google.com/o/oauth2/auth?response_type=code&client_id=32555940559.apps.googleusercontent.com&redirect_uri=urn%3Aietf%3Awg%3Aoauth%3A2.0%3Aoob&scope=openid+https%3A%2F%2Fwww.googleapis.com%2Fauth%2Fuserinfo.email+https%3A%2F%2Fwww.googleapis.com%2Fauth%2Fcloud-platform+https%3A%2F%2Fwww.googleapis.com%2Fauth%2Fappengine.admin+https%3A%2F%2Fwww.googleapis.com%2Fauth%2Fcompute+https%3A%2F%2Fwww.googleapis.com%2Fauth%2Faccounts.reauth+https%3A%2F%2Fwww.googleapis.com%2Fauth%2Fdrive&state=MVXbrd74I4JaWFImSXutAFL6uWI8Qe&prompt=consent&access_type=offline&code_challenge=2rUBFHI-HaMuoBljca5ivLBUNRivi8oc0v6wqfPltk8&code_challenge_method=S256\n",
            "\n",
            "Enter verification code: 4/1AX4XfWj9NxGwhsBb-A09bZn8leAMkXxgwTjTfwn1lJjwmpIx5PmhTsytK1Y\n"
          ]
        }
      ]
    },
    {
      "cell_type": "markdown",
      "metadata": {
        "id": "UMKGkkZEPVRu"
      },
      "source": [
        "## Optional: Enable data table display\n",
        "\n",
        "Colab includes the ``google.colab.data_table`` package that can be used to display large pandas dataframes as an interactive data table.\n",
        "It can be enabled with:"
      ]
    },
    {
      "cell_type": "code",
      "metadata": {
        "id": "LMNA-vBHPyHz"
      },
      "source": [
        "%load_ext google.colab.data_table"
      ],
      "execution_count": null,
      "outputs": []
    },
    {
      "cell_type": "markdown",
      "metadata": {
        "id": "y7QuudxdP0jH"
      },
      "source": [
        "If you would prefer to return to the classic Pandas dataframe display, you can disable this by running:\n",
        "```python\n",
        "%unload_ext google.colab.data_table\n",
        "```"
      ]
    },
    {
      "cell_type": "markdown",
      "metadata": {
        "id": "OHCBQv4uTCPc"
      },
      "source": [
        "# Use BigQuery via magics\n",
        "\n",
        "The `google.cloud.bigquery` library also includes a magic command which runs a query and either displays the result or saves it to a variable as a `DataFrame`."
      ]
    },
    {
      "cell_type": "code",
      "metadata": {
        "colab": {
          "base_uri": "https://localhost:8080/",
          "height": 80
        },
        "id": "DMxOKQ3vJplj",
        "outputId": "80b36e74-b5a6-4073-a9ea-f641fcfdb86b"
      },
      "source": [
        "# Display query output immediately\n",
        "\n",
        "%%bigquery --project pg-us-e-app-584489\n",
        "SELECT \n",
        "  COUNT(*) as total_rows\n",
        "FROM `Equitable.ProRata`"
      ],
      "execution_count": 4,
      "outputs": [
        {
          "output_type": "execute_result",
          "data": {
            "text/html": [
              "<div>\n",
              "<style scoped>\n",
              "    .dataframe tbody tr th:only-of-type {\n",
              "        vertical-align: middle;\n",
              "    }\n",
              "\n",
              "    .dataframe tbody tr th {\n",
              "        vertical-align: top;\n",
              "    }\n",
              "\n",
              "    .dataframe thead th {\n",
              "        text-align: right;\n",
              "    }\n",
              "</style>\n",
              "<table border=\"1\" class=\"dataframe\">\n",
              "  <thead>\n",
              "    <tr style=\"text-align: right;\">\n",
              "      <th></th>\n",
              "      <th>total_rows</th>\n",
              "    </tr>\n",
              "  </thead>\n",
              "  <tbody>\n",
              "    <tr>\n",
              "      <th>0</th>\n",
              "      <td>1048575</td>\n",
              "    </tr>\n",
              "  </tbody>\n",
              "</table>\n",
              "</div>"
            ],
            "text/plain": [
              "   total_rows\n",
              "0     1048575"
            ]
          },
          "metadata": {},
          "execution_count": 4
        }
      ]
    },
    {
      "cell_type": "code",
      "metadata": {
        "id": "cLh05lDpJ4wj"
      },
      "source": [
        "# Save output in a variable `df`\n",
        "%%bigquery --project pg-us-e-app-584489 df\n",
        "SELECT * FROM `Equitable.ProRata`"
      ],
      "execution_count": null,
      "outputs": []
    },
    {
      "cell_type": "code",
      "metadata": {
        "colab": {
          "base_uri": "https://localhost:8080/",
          "height": 694
        },
        "id": "xgopBClCKs_0",
        "outputId": "057495a5-2c12-4aa8-ef8e-b02396c7a519"
      },
      "source": [
        "df.head(10)"
      ],
      "execution_count": null,
      "outputs": [
        {
          "output_type": "execute_result",
          "data": {
            "text/html": [
              "<div>\n",
              "<style scoped>\n",
              "    .dataframe tbody tr th:only-of-type {\n",
              "        vertical-align: middle;\n",
              "    }\n",
              "\n",
              "    .dataframe tbody tr th {\n",
              "        vertical-align: top;\n",
              "    }\n",
              "\n",
              "    .dataframe thead th {\n",
              "        text-align: right;\n",
              "    }\n",
              "</style>\n",
              "<table border=\"1\" class=\"dataframe\">\n",
              "  <thead>\n",
              "    <tr style=\"text-align: right;\">\n",
              "      <th></th>\n",
              "      <th>Year_curr</th>\n",
              "      <th>Month_curr</th>\n",
              "      <th>curr_ss_date</th>\n",
              "      <th>Q</th>\n",
              "      <th>Life_Benefit</th>\n",
              "      <th>With_Map</th>\n",
              "      <th>ITMband</th>\n",
              "      <th>product</th>\n",
              "      <th>product_series</th>\n",
              "      <th>legacy_nonleg</th>\n",
              "      <th>Buyout_Indicator</th>\n",
              "      <th>db_benefit</th>\n",
              "      <th>tax_status</th>\n",
              "      <th>channel</th>\n",
              "      <th>pt_nlg_ind</th>\n",
              "      <th>Withdrawal_Taken</th>\n",
              "      <th>ProRata_ind</th>\n",
              "      <th>Rate_ib_db</th>\n",
              "      <th>AAge_band</th>\n",
              "      <th>Venerable_Ind</th>\n",
              "      <th>_49_1_Indicator</th>\n",
              "      <th>Inforce</th>\n",
              "      <th>Inforce_AV</th>\n",
              "      <th>Inforce_BB</th>\n",
              "      <th>Expected_Pro_Rata_Amount</th>\n",
              "      <th>Actual_Pro_Rata_Amount</th>\n",
              "      <th>Expected</th>\n",
              "    </tr>\n",
              "  </thead>\n",
              "  <tbody>\n",
              "    <tr>\n",
              "      <th>0</th>\n",
              "      <td>2016</td>\n",
              "      <td>1</td>\n",
              "      <td>2016-01-29</td>\n",
              "      <td>2016Q1</td>\n",
              "      <td>DB_Only</td>\n",
              "      <td>Other</td>\n",
              "      <td>-50% and Less</td>\n",
              "      <td>ACC</td>\n",
              "      <td>ACC_1995/1996</td>\n",
              "      <td>Legacy</td>\n",
              "      <td>No_Buyout</td>\n",
              "      <td>RAT/ROP</td>\n",
              "      <td>NQ</td>\n",
              "      <td>R</td>\n",
              "      <td>False</td>\n",
              "      <td>0</td>\n",
              "      <td>0</td>\n",
              "      <td>6.0</td>\n",
              "      <td>67</td>\n",
              "      <td>EQH</td>\n",
              "      <td>EQH</td>\n",
              "      <td>1</td>\n",
              "      <td>74559.96</td>\n",
              "      <td>0.0</td>\n",
              "      <td>99.518907</td>\n",
              "      <td>0.0</td>\n",
              "      <td>EI</td>\n",
              "    </tr>\n",
              "    <tr>\n",
              "      <th>1</th>\n",
              "      <td>2016</td>\n",
              "      <td>1</td>\n",
              "      <td>2016-01-29</td>\n",
              "      <td>2016Q1</td>\n",
              "      <td>DB_Only</td>\n",
              "      <td>Other</td>\n",
              "      <td>-50% and Less</td>\n",
              "      <td>ACC</td>\n",
              "      <td>ACC_1995/1996</td>\n",
              "      <td>Legacy</td>\n",
              "      <td>No_Buyout</td>\n",
              "      <td>RAT/ROP</td>\n",
              "      <td>NQ</td>\n",
              "      <td>R</td>\n",
              "      <td>False</td>\n",
              "      <td>0</td>\n",
              "      <td>0</td>\n",
              "      <td>6.0</td>\n",
              "      <td>69</td>\n",
              "      <td>EQH</td>\n",
              "      <td>EQH</td>\n",
              "      <td>1</td>\n",
              "      <td>196082.82</td>\n",
              "      <td>0.0</td>\n",
              "      <td>278.176161</td>\n",
              "      <td>0.0</td>\n",
              "      <td>EI</td>\n",
              "    </tr>\n",
              "    <tr>\n",
              "      <th>2</th>\n",
              "      <td>2016</td>\n",
              "      <td>1</td>\n",
              "      <td>2016-01-29</td>\n",
              "      <td>2016Q1</td>\n",
              "      <td>DB_Only</td>\n",
              "      <td>Other</td>\n",
              "      <td>-50% and Less</td>\n",
              "      <td>ACC</td>\n",
              "      <td>ACC_1995/1996</td>\n",
              "      <td>Legacy</td>\n",
              "      <td>No_Buyout</td>\n",
              "      <td>RAT/ROP</td>\n",
              "      <td>NQ</td>\n",
              "      <td>R</td>\n",
              "      <td>False</td>\n",
              "      <td>0</td>\n",
              "      <td>0</td>\n",
              "      <td>6.0</td>\n",
              "      <td>75</td>\n",
              "      <td>EQH</td>\n",
              "      <td>EQH</td>\n",
              "      <td>1</td>\n",
              "      <td>41972.32</td>\n",
              "      <td>0.0</td>\n",
              "      <td>70.104267</td>\n",
              "      <td>0.0</td>\n",
              "      <td>EI</td>\n",
              "    </tr>\n",
              "    <tr>\n",
              "      <th>3</th>\n",
              "      <td>2016</td>\n",
              "      <td>1</td>\n",
              "      <td>2016-01-29</td>\n",
              "      <td>2016Q1</td>\n",
              "      <td>DB_Only</td>\n",
              "      <td>Other</td>\n",
              "      <td>-50% and Less</td>\n",
              "      <td>ACC</td>\n",
              "      <td>ACC_1995/1996</td>\n",
              "      <td>Legacy</td>\n",
              "      <td>No_Buyout</td>\n",
              "      <td>RAT/ROP</td>\n",
              "      <td>NQ</td>\n",
              "      <td>R</td>\n",
              "      <td>False</td>\n",
              "      <td>0</td>\n",
              "      <td>0</td>\n",
              "      <td>6.0</td>\n",
              "      <td>76</td>\n",
              "      <td>EQH</td>\n",
              "      <td>EQH</td>\n",
              "      <td>1</td>\n",
              "      <td>22135.57</td>\n",
              "      <td>0.0</td>\n",
              "      <td>37.899785</td>\n",
              "      <td>0.0</td>\n",
              "      <td>EI</td>\n",
              "    </tr>\n",
              "    <tr>\n",
              "      <th>4</th>\n",
              "      <td>2016</td>\n",
              "      <td>1</td>\n",
              "      <td>2016-01-29</td>\n",
              "      <td>2016Q1</td>\n",
              "      <td>DB_Only</td>\n",
              "      <td>Other</td>\n",
              "      <td>-50% and Less</td>\n",
              "      <td>ACC</td>\n",
              "      <td>ACC_1995/1996</td>\n",
              "      <td>Legacy</td>\n",
              "      <td>No_Buyout</td>\n",
              "      <td>RAT/ROP</td>\n",
              "      <td>NQ</td>\n",
              "      <td>R</td>\n",
              "      <td>False</td>\n",
              "      <td>0</td>\n",
              "      <td>0</td>\n",
              "      <td>6.0</td>\n",
              "      <td>77</td>\n",
              "      <td>EQH</td>\n",
              "      <td>EQH</td>\n",
              "      <td>3</td>\n",
              "      <td>506724.17</td>\n",
              "      <td>0.0</td>\n",
              "      <td>888.836421</td>\n",
              "      <td>0.0</td>\n",
              "      <td>EI</td>\n",
              "    </tr>\n",
              "    <tr>\n",
              "      <th>...</th>\n",
              "      <td>...</td>\n",
              "      <td>...</td>\n",
              "      <td>...</td>\n",
              "      <td>...</td>\n",
              "      <td>...</td>\n",
              "      <td>...</td>\n",
              "      <td>...</td>\n",
              "      <td>...</td>\n",
              "      <td>...</td>\n",
              "      <td>...</td>\n",
              "      <td>...</td>\n",
              "      <td>...</td>\n",
              "      <td>...</td>\n",
              "      <td>...</td>\n",
              "      <td>...</td>\n",
              "      <td>...</td>\n",
              "      <td>...</td>\n",
              "      <td>...</td>\n",
              "      <td>...</td>\n",
              "      <td>...</td>\n",
              "      <td>...</td>\n",
              "      <td>...</td>\n",
              "      <td>...</td>\n",
              "      <td>...</td>\n",
              "      <td>...</td>\n",
              "      <td>...</td>\n",
              "      <td>...</td>\n",
              "    </tr>\n",
              "    <tr>\n",
              "      <th>1048570</th>\n",
              "      <td>2016</td>\n",
              "      <td>2</td>\n",
              "      <td>2016-02-29</td>\n",
              "      <td>2016Q1</td>\n",
              "      <td>DB_Only</td>\n",
              "      <td>Other</td>\n",
              "      <td>40% to 50%</td>\n",
              "      <td>ACC</td>\n",
              "      <td>ACC_Oct. 1996 - pre '02</td>\n",
              "      <td>Legacy</td>\n",
              "      <td>No_Buyout</td>\n",
              "      <td>RAT/ROP</td>\n",
              "      <td>Q</td>\n",
              "      <td>W</td>\n",
              "      <td>False</td>\n",
              "      <td>1</td>\n",
              "      <td>1</td>\n",
              "      <td>0.0</td>\n",
              "      <td>80</td>\n",
              "      <td>EQH</td>\n",
              "      <td>EQH</td>\n",
              "      <td>2</td>\n",
              "      <td>98782.77</td>\n",
              "      <td>0.0</td>\n",
              "      <td>491.551295</td>\n",
              "      <td>1200.0</td>\n",
              "      <td>GAAP</td>\n",
              "    </tr>\n",
              "    <tr>\n",
              "      <th>1048571</th>\n",
              "      <td>2016</td>\n",
              "      <td>2</td>\n",
              "      <td>2016-02-29</td>\n",
              "      <td>2016Q1</td>\n",
              "      <td>DB_Only</td>\n",
              "      <td>Other</td>\n",
              "      <td>50% to 60%</td>\n",
              "      <td>ACC</td>\n",
              "      <td>ACC_Oct. 1996 - pre '02</td>\n",
              "      <td>Legacy</td>\n",
              "      <td>No_Buyout</td>\n",
              "      <td>RAT/ROP</td>\n",
              "      <td>NQ</td>\n",
              "      <td>W</td>\n",
              "      <td>False</td>\n",
              "      <td>1</td>\n",
              "      <td>1</td>\n",
              "      <td>0.0</td>\n",
              "      <td>86+</td>\n",
              "      <td>EQH</td>\n",
              "      <td>EQH</td>\n",
              "      <td>1</td>\n",
              "      <td>26420.81</td>\n",
              "      <td>0.0</td>\n",
              "      <td>64.744195</td>\n",
              "      <td>500.0</td>\n",
              "      <td>GAAP</td>\n",
              "    </tr>\n",
              "    <tr>\n",
              "      <th>1048572</th>\n",
              "      <td>2016</td>\n",
              "      <td>2</td>\n",
              "      <td>2016-02-29</td>\n",
              "      <td>2016Q1</td>\n",
              "      <td>DB_Only</td>\n",
              "      <td>Other</td>\n",
              "      <td>50% to 60%</td>\n",
              "      <td>ACC</td>\n",
              "      <td>ACC_Oct. 1996 - pre '02</td>\n",
              "      <td>Legacy</td>\n",
              "      <td>No_Buyout</td>\n",
              "      <td>RAT/ROP</td>\n",
              "      <td>NQ</td>\n",
              "      <td>W</td>\n",
              "      <td>False</td>\n",
              "      <td>1</td>\n",
              "      <td>1</td>\n",
              "      <td>0.0</td>\n",
              "      <td>86</td>\n",
              "      <td>EQH</td>\n",
              "      <td>EQH</td>\n",
              "      <td>1</td>\n",
              "      <td>33031.62</td>\n",
              "      <td>0.0</td>\n",
              "      <td>72.592490</td>\n",
              "      <td>202.0</td>\n",
              "      <td>GAAP</td>\n",
              "    </tr>\n",
              "    <tr>\n",
              "      <th>1048573</th>\n",
              "      <td>2016</td>\n",
              "      <td>2</td>\n",
              "      <td>2016-02-29</td>\n",
              "      <td>2016Q1</td>\n",
              "      <td>DB_Only</td>\n",
              "      <td>Other</td>\n",
              "      <td>60% to 75%</td>\n",
              "      <td>ACC</td>\n",
              "      <td>ACC_Oct. 1996 - pre '02</td>\n",
              "      <td>Legacy</td>\n",
              "      <td>No_Buyout</td>\n",
              "      <td>RAT/ROP</td>\n",
              "      <td>NQ</td>\n",
              "      <td>W</td>\n",
              "      <td>False</td>\n",
              "      <td>1</td>\n",
              "      <td>1</td>\n",
              "      <td>0.0</td>\n",
              "      <td>79</td>\n",
              "      <td>EQH</td>\n",
              "      <td>EQH</td>\n",
              "      <td>1</td>\n",
              "      <td>32003.47</td>\n",
              "      <td>0.0</td>\n",
              "      <td>62.385431</td>\n",
              "      <td>125.0</td>\n",
              "      <td>GAAP</td>\n",
              "    </tr>\n",
              "    <tr>\n",
              "      <th>1048574</th>\n",
              "      <td>2016</td>\n",
              "      <td>2</td>\n",
              "      <td>2016-02-29</td>\n",
              "      <td>2016Q1</td>\n",
              "      <td>DB_Only</td>\n",
              "      <td>Other</td>\n",
              "      <td>60% to 75%</td>\n",
              "      <td>ACC</td>\n",
              "      <td>ACC_Oct. 1996 - pre '02</td>\n",
              "      <td>Legacy</td>\n",
              "      <td>No_Buyout</td>\n",
              "      <td>RAT/ROP</td>\n",
              "      <td>Q</td>\n",
              "      <td>W</td>\n",
              "      <td>False</td>\n",
              "      <td>1</td>\n",
              "      <td>1</td>\n",
              "      <td>0.0</td>\n",
              "      <td>79</td>\n",
              "      <td>EQH</td>\n",
              "      <td>EQH</td>\n",
              "      <td>1</td>\n",
              "      <td>116215.63</td>\n",
              "      <td>0.0</td>\n",
              "      <td>561.418339</td>\n",
              "      <td>500.0</td>\n",
              "      <td>GAAP</td>\n",
              "    </tr>\n",
              "  </tbody>\n",
              "</table>\n",
              "<p>1048575 rows × 27 columns</p>\n",
              "</div>"
            ],
            "text/plain": [
              "         Year_curr  Month_curr  ... Actual_Pro_Rata_Amount Expected\n",
              "0             2016           1  ...                    0.0       EI\n",
              "1             2016           1  ...                    0.0       EI\n",
              "2             2016           1  ...                    0.0       EI\n",
              "3             2016           1  ...                    0.0       EI\n",
              "4             2016           1  ...                    0.0       EI\n",
              "...            ...         ...  ...                    ...      ...\n",
              "1048570       2016           2  ...                 1200.0     GAAP\n",
              "1048571       2016           2  ...                  500.0     GAAP\n",
              "1048572       2016           2  ...                  202.0     GAAP\n",
              "1048573       2016           2  ...                  125.0     GAAP\n",
              "1048574       2016           2  ...                  500.0     GAAP\n",
              "\n",
              "[1048575 rows x 27 columns]"
            ]
          },
          "metadata": {},
          "execution_count": 5
        }
      ]
    },
    {
      "cell_type": "code",
      "metadata": {
        "id": "bFjWtwDs07BH"
      },
      "source": [
        "df.describe()"
      ],
      "execution_count": null,
      "outputs": []
    },
    {
      "cell_type": "markdown",
      "metadata": {
        "id": "fkhbyGaXKs_6"
      },
      "source": [
        "# Use BigQuery through google-cloud-bigquery\n",
        "\n",
        "See [BigQuery documentation](https://cloud.google.com/bigquery/docs) and [library reference documentation](https://googlecloudplatform.github.io/google-cloud-python/latest/bigquery/usage.html).\n",
        "\n",
        "The [GSOD sample table](https://bigquery.cloud.google.com/table/bigquery-public-data:samples.gsod) contains weather information collected by NOAA, such as precipitation amounts and wind speeds from late 1929 to early 2010.\n"
      ]
    },
    {
      "cell_type": "markdown",
      "metadata": {
        "id": "goQQ96EDKs_7"
      },
      "source": [
        "### Declare the Cloud project ID which will be used throughout this notebook"
      ]
    },
    {
      "cell_type": "code",
      "metadata": {
        "id": "hWK0nJWgKs_8"
      },
      "source": [
        "project_id = 'pg-us-e-app-584489'"
      ],
      "execution_count": null,
      "outputs": []
    },
    {
      "cell_type": "markdown",
      "metadata": {
        "id": "lK-9fSClKtAB"
      },
      "source": [
        "### Sample approximately 2000 random rows"
      ]
    },
    {
      "cell_type": "code",
      "metadata": {
        "id": "ONI1Xo0-KtAD"
      },
      "source": [
        "from google.cloud import bigquery\n",
        "\n",
        "client = bigquery.Client(project=project_id)\n",
        "\n",
        "sample_count = 2000\n",
        "row_count = client.query('''\n",
        "  SELECT \n",
        "    COUNT(*) as total\n",
        "  FROM `Equitable.ProRata`''').to_dataframe().total[0]\n",
        "\n",
        "df = client.query('''\n",
        "  SELECT\n",
        "    *\n",
        "  FROM\n",
        "    `Equitable.ProRata`\n",
        "  WHERE RAND() < %d/%d\n",
        "''' % (sample_count, row_count)).to_dataframe()\n",
        "\n",
        "print('Full dataset has %d rows' % row_count)"
      ],
      "execution_count": null,
      "outputs": []
    },
    {
      "cell_type": "markdown",
      "metadata": {
        "id": "Bu2C7iWMKtAM"
      },
      "source": [
        "### Describe the sampled data"
      ]
    },
    {
      "cell_type": "code",
      "metadata": {
        "id": "XrFmZBr9KtAN"
      },
      "source": [
        "df.describe()"
      ],
      "execution_count": null,
      "outputs": []
    },
    {
      "cell_type": "markdown",
      "metadata": {
        "id": "SVWFp6jIKtAa"
      },
      "source": [
        "### View the first 10 rows"
      ]
    },
    {
      "cell_type": "code",
      "metadata": {
        "id": "hEYIhPvAKtAd"
      },
      "source": [
        "df.head(10)"
      ],
      "execution_count": null,
      "outputs": []
    },
    {
      "cell_type": "code",
      "metadata": {
        "id": "1K7weAv6KtAq"
      },
      "source": [
        "df.sort_values('Year_curr', ascending=False).head(10)[['Life_Benefit', 'Expected_Pro_Rata_Amount', 'Actual_Pro_Rata_Amount']]"
      ],
      "execution_count": null,
      "outputs": []
    },
    {
      "cell_type": "markdown",
      "metadata": {
        "id": "oKNxsRvuKtAz"
      },
      "source": [
        "# Use BigQuery through pandas-gbq\n",
        "\n",
        "The `pandas-gbq` library is a community led project by the pandas community. It covers basic functionality, such as writing a DataFrame to BigQuery and running a query, but as a third-party library it may not handle all BigQuery features or use cases.\n",
        "\n",
        "[Pandas GBQ Documentation](https://pandas.pydata.org/pandas-docs/stable/generated/pandas.read_gbq.html)"
      ]
    },
    {
      "cell_type": "code",
      "metadata": {
        "colab": {
          "base_uri": "https://localhost:8080/",
          "height": 195
        },
        "id": "dWf7KIxjKtA0",
        "outputId": "5cac675d-ba4c-4fbe-d771-776691fcf4d4"
      },
      "source": [
        "import pandas as pd\n",
        "\n",
        "sample_count = 2000\n",
        "df = pd.io.gbq.read_gbq('''\n",
        "  SELECT name, SUM(number) as count\n",
        "  FROM `bigquery-public-data.usa_names.usa_1910_2013`\n",
        "  WHERE state = 'TX'\n",
        "  GROUP BY name\n",
        "  ORDER BY count DESC\n",
        "  LIMIT 100\n",
        "''', project_id=project_id, dialect='standard')\n",
        "\n",
        "df.head()"
      ],
      "execution_count": null,
      "outputs": [
        {
          "data": {
            "application/vnd.google.colaboratory.module+javascript": "\n      import \"https://ssl.gstatic.com/colaboratory/data_table/a036b366c3cace79/data_table.js\";\n\n      window.createDataTable({\n        data: [[{\n            'v': 0,\n            'f': \"0\",\n        },\n\"James\",\n{\n            'v': 272793,\n            'f': \"272793\",\n        }],\n [{\n            'v': 1,\n            'f': \"1\",\n        },\n\"John\",\n{\n            'v': 235139,\n            'f': \"235139\",\n        }],\n [{\n            'v': 2,\n            'f': \"2\",\n        },\n\"Michael\",\n{\n            'v': 225320,\n            'f': \"225320\",\n        }],\n [{\n            'v': 3,\n            'f': \"3\",\n        },\n\"Robert\",\n{\n            'v': 220399,\n            'f': \"220399\",\n        }],\n [{\n            'v': 4,\n            'f': \"4\",\n        },\n\"David\",\n{\n            'v': 219028,\n            'f': \"219028\",\n        }]],\n        columns: [[\"number\", \"index\"], [\"string\", \"name\"], [\"number\", \"count\"]],\n        rowsPerPage: 25,\n        helpUrl: \"https://colab.research.google.com/notebooks/data_table.ipynb\",\n      });\n    ",
            "text/html": [
              "<div>\n",
              "<style scoped>\n",
              "    .dataframe tbody tr th:only-of-type {\n",
              "        vertical-align: middle;\n",
              "    }\n",
              "\n",
              "    .dataframe tbody tr th {\n",
              "        vertical-align: top;\n",
              "    }\n",
              "\n",
              "    .dataframe thead th {\n",
              "        text-align: right;\n",
              "    }\n",
              "</style>\n",
              "<table border=\"1\" class=\"dataframe\">\n",
              "  <thead>\n",
              "    <tr style=\"text-align: right;\">\n",
              "      <th></th>\n",
              "      <th>name</th>\n",
              "      <th>count</th>\n",
              "    </tr>\n",
              "  </thead>\n",
              "  <tbody>\n",
              "    <tr>\n",
              "      <th>0</th>\n",
              "      <td>James</td>\n",
              "      <td>272793</td>\n",
              "    </tr>\n",
              "    <tr>\n",
              "      <th>1</th>\n",
              "      <td>John</td>\n",
              "      <td>235139</td>\n",
              "    </tr>\n",
              "    <tr>\n",
              "      <th>2</th>\n",
              "      <td>Michael</td>\n",
              "      <td>225320</td>\n",
              "    </tr>\n",
              "    <tr>\n",
              "      <th>3</th>\n",
              "      <td>Robert</td>\n",
              "      <td>220399</td>\n",
              "    </tr>\n",
              "    <tr>\n",
              "      <th>4</th>\n",
              "      <td>David</td>\n",
              "      <td>219028</td>\n",
              "    </tr>\n",
              "  </tbody>\n",
              "</table>\n",
              "</div>"
            ],
            "text/plain": [
              "      name   count\n",
              "0    James  272793\n",
              "1     John  235139\n",
              "2  Michael  225320\n",
              "3   Robert  220399\n",
              "4    David  219028"
            ]
          },
          "execution_count": 0,
          "metadata": {
            "tags": []
          },
          "output_type": "execute_result"
        }
      ]
    },
    {
      "cell_type": "markdown",
      "metadata": {
        "id": "vU5JcPLjcj4o"
      },
      "source": [
        "# Syntax highlighting\n",
        "`google.colab.syntax` can be used to add syntax highlighting to any Python string literals which are used in a query later."
      ]
    },
    {
      "cell_type": "code",
      "metadata": {
        "id": "q8kDqSYCczeM",
        "outputId": "78f1a780-a522-4769-bae9-5e982e7ee02f"
      },
      "source": [
        "from google.colab import syntax\n",
        "query = syntax.sql('''\n",
        "SELECT\n",
        "  COUNT(*) as total_rows\n",
        "FROM\n",
        "  `bigquery-public-data.samples.gsod`\n",
        "''')\n",
        "\n",
        "pd.io.gbq.read_gbq(query, project_id=project_id, dialect='standard')"
      ],
      "execution_count": null,
      "outputs": [
        {
          "data": {
            "application/vnd.google.colaboratory.module+javascript": "\n      import \"https://ssl.gstatic.com/colaboratory/data_table/a6224c040fa35dcf/data_table.js\";\n\n      window.createDataTable({\n        data: [[{\n            'v': 0,\n            'f': \"0\",\n        },\n{\n            'v': 114420316,\n            'f': \"114420316\",\n        }]],\n        columns: [[\"number\", \"index\"], [\"number\", \"total_rows\"]],\n        columnOptions: [{\"width\": \"1px\", \"className\": \"index_column\"}],\n        rowsPerPage: 25,\n        helpUrl: \"https://colab.research.google.com/notebooks/data_table.ipynb\",\n        suppressOutputScrolling: true,\n        minimumWidth: undefined,\n      });\n    ",
            "text/html": [
              "<div>\n",
              "<style scoped>\n",
              "    .dataframe tbody tr th:only-of-type {\n",
              "        vertical-align: middle;\n",
              "    }\n",
              "\n",
              "    .dataframe tbody tr th {\n",
              "        vertical-align: top;\n",
              "    }\n",
              "\n",
              "    .dataframe thead th {\n",
              "        text-align: right;\n",
              "    }\n",
              "</style>\n",
              "<table border=\"1\" class=\"dataframe\">\n",
              "  <thead>\n",
              "    <tr style=\"text-align: right;\">\n",
              "      <th></th>\n",
              "      <th>total_rows</th>\n",
              "    </tr>\n",
              "  </thead>\n",
              "  <tbody>\n",
              "    <tr>\n",
              "      <th>0</th>\n",
              "      <td>114420316</td>\n",
              "    </tr>\n",
              "  </tbody>\n",
              "</table>\n",
              "</div>"
            ],
            "text/plain": [
              "   total_rows\n",
              "0   114420316"
            ]
          },
          "execution_count": 0,
          "metadata": {
            "tags": []
          },
          "output_type": "execute_result"
        }
      ]
    }
  ]
}