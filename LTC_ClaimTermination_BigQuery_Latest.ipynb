{
  "nbformat": 4,
  "nbformat_minor": 0,
  "metadata": {
    "colab": {
      "name": "LTC_ClaimTermination-BigQuery-Starter.ipynb",
      "provenance": [],
      "collapsed_sections": [],
      "include_colab_link": true
    },
    "kernelspec": {
      "display_name": "Python 3",
      "name": "python3"
    },
    "language_info": {
      "name": "python"
    }
  },
  "cells": [
    {
      "cell_type": "markdown",
      "metadata": {
        "id": "view-in-github",
        "colab_type": "text"
      },
      "source": [
        "<a href=\"https://colab.research.google.com/github/jimbrig-work/Collab-Notebooks/blob/main/LTC_ClaimTermination_BigQuery_Latest.ipynb\" target=\"_parent\"><img src=\"https://colab.research.google.com/assets/colab-badge.svg\" alt=\"Open In Colab\"/></a>"
      ]
    },
    {
      "cell_type": "markdown",
      "metadata": {
        "id": "E3Wcf1NH6_Ta"
      },
      "source": [
        "# **CLAIM TERMINATIONS STUDY**\n"
      ]
    },
    {
      "cell_type": "code",
      "metadata": {
        "id": "zqTW41hMPk7w"
      },
      "source": [
        "import io\n",
        "\n",
        "import numpy as np\n",
        "import pandas as pd\n",
        "\n",
        "import tensorflow as tf\n",
        "from tensorflow import keras\n",
        "from keras import Model\n",
        "from keras.losses import Loss\n",
        "from tensorflow.python.keras.utils.vis_utils import plot_model\n",
        "\n",
        "from sklearn.preprocessing import StandardScaler\n",
        "from sklearn.model_selection import train_test_split\n",
        "import matplotlib.pyplot as plt"
      ],
      "execution_count": null,
      "outputs": []
    },
    {
      "cell_type": "code",
      "metadata": {
        "id": "tLgP-gVtoE6Q"
      },
      "source": [
        "_EPSILON = 1e-08\n",
        "\n",
        "##### USER-DEFINED FUNCTIONS\n",
        "def log(x):\n",
        "    return tf.math.log(x + _EPSILON)\n",
        "\n",
        "def div(x, y):\n",
        "    return tf.div(x, (y + _EPSILON))"
      ],
      "execution_count": null,
      "outputs": []
    },
    {
      "cell_type": "markdown",
      "metadata": {
        "id": "_HwefrOomd9Y"
      },
      "source": [
        "## Authenticate with GCP Bigquery"
      ]
    },
    {
      "cell_type": "code",
      "metadata": {
        "id": "RLgORRMfxbfn",
        "colab": {
          "base_uri": "https://localhost:8080/"
        },
        "outputId": "32e6f853-77f2-4788-a38c-e422617b9a43"
      },
      "source": [
        "# OAuth Method\n",
        "from google.colab import auth\n",
        "auth.authenticate_user()\n",
        "print('Authenticated')"
      ],
      "execution_count": 4,
      "outputs": [
        {
          "output_type": "stream",
          "name": "stdout",
          "text": [
            "Authenticated\n"
          ]
        }
      ]
    },
    {
      "cell_type": "markdown",
      "metadata": {
        "id": "_ExsPJT8xxaq"
      },
      "source": [
        "**Specify Project ID**"
      ]
    },
    {
      "cell_type": "code",
      "metadata": {
        "id": "jvg0l6RDnZ2N"
      },
      "source": [
        "project_id = 'pg-us-e-app-584489'"
      ],
      "execution_count": 3,
      "outputs": []
    },
    {
      "cell_type": "markdown",
      "metadata": {
        "id": "QhU5rfK7x1WS"
      },
      "source": [
        "**Run a Query**"
      ]
    },
    {
      "cell_type": "code",
      "metadata": {
        "id": "wf8HtdL3oBiI",
        "colab": {
          "base_uri": "https://localhost:8080/",
          "height": 80
        },
        "outputId": "f72204a6-d142-4cc1-c746-00e52855cdb3"
      },
      "source": [
        "# example query retrieving total rows:\n",
        "%%bigquery --project pg-us-e-app-584489\n",
        "SELECT \n",
        "  COUNT(*) as total_rows\n",
        "FROM `Equitable.ProRata`"
      ],
      "execution_count": 5,
      "outputs": [
        {
          "output_type": "execute_result",
          "data": {
            "text/html": [
              "<div>\n",
              "<style scoped>\n",
              "    .dataframe tbody tr th:only-of-type {\n",
              "        vertical-align: middle;\n",
              "    }\n",
              "\n",
              "    .dataframe tbody tr th {\n",
              "        vertical-align: top;\n",
              "    }\n",
              "\n",
              "    .dataframe thead th {\n",
              "        text-align: right;\n",
              "    }\n",
              "</style>\n",
              "<table border=\"1\" class=\"dataframe\">\n",
              "  <thead>\n",
              "    <tr style=\"text-align: right;\">\n",
              "      <th></th>\n",
              "      <th>total_rows</th>\n",
              "    </tr>\n",
              "  </thead>\n",
              "  <tbody>\n",
              "    <tr>\n",
              "      <th>0</th>\n",
              "      <td>26425235</td>\n",
              "    </tr>\n",
              "  </tbody>\n",
              "</table>\n",
              "</div>"
            ],
            "text/plain": [
              "   total_rows\n",
              "0    26425235"
            ]
          },
          "metadata": {},
          "execution_count": 5
        }
      ]
    },
    {
      "cell_type": "markdown",
      "metadata": {
        "id": "2HGd_RpFm-wC"
      },
      "source": [
        "**Enable data table display**"
      ]
    },
    {
      "cell_type": "code",
      "metadata": {
        "id": "3HcTDz_UnCLo"
      },
      "source": [
        "%load_ext google.colab.data_table"
      ],
      "execution_count": null,
      "outputs": []
    },
    {
      "cell_type": "markdown",
      "metadata": {
        "id": "TZ3ujIEM2HKB"
      },
      "source": [
        "If you would prefer to return to the classic Pandas dataframe display, you can disable this by running:"
      ]
    },
    {
      "cell_type": "code",
      "metadata": {
        "id": "9ksvSHpf2DQy"
      },
      "source": [
        "%unload_ext google.colab.data_table"
      ],
      "execution_count": null,
      "outputs": []
    },
    {
      "cell_type": "markdown",
      "metadata": {
        "id": "fDRA27r-S1AR"
      },
      "source": [
        "# I. Data Prep\n",
        "\n",
        "**Load and Preprocess the Dataset**"
      ]
    },
    {
      "cell_type": "markdown",
      "metadata": {
        "id": "rgWP4cdbzeLP"
      },
      "source": [
        "Load Data (Disabling Full load and Sampling 250,000 Rows:"
      ]
    },
    {
      "cell_type": "code",
      "metadata": {
        "id": "iQXOZG97wkQQ",
        "colab": {
          "base_uri": "https://localhost:8080/"
        },
        "outputId": "d46d253f-578c-4294-f665-af21159e6a78"
      },
      "source": [
        "# Load Full Data from Big Query and Assign to df and display output\n",
        "# Commenting out cause too big:\n",
        "# %%bigquery --project pg-us-e-app-584489 df\n",
        "# SELECT * FROM `Equitable.ProRata`\n",
        "\n",
        "from google.cloud import bigquery\n",
        "\n",
        "client = bigquery.Client(project=project_id)\n",
        "\n",
        "sample_count = 250000\n",
        "row_count = client.query('''\n",
        "  SELECT \n",
        "    COUNT(*) as total\n",
        "  FROM `Equitable.ProRata`''').to_dataframe().total[0]\n",
        "\n",
        "df = client.query('''\n",
        "  SELECT\n",
        "    *\n",
        "  FROM\n",
        "    `Equitable.ProRata`\n",
        "  WHERE RAND() < %d/%d\n",
        "''' % (sample_count, row_count)).to_dataframe()\n",
        "\n",
        "print('Full dataset has %d rows' % row_count)"
      ],
      "execution_count": 6,
      "outputs": [
        {
          "output_type": "stream",
          "name": "stdout",
          "text": [
            "Full dataset has 26425235 rows\n"
          ]
        }
      ]
    },
    {
      "cell_type": "markdown",
      "metadata": {
        "id": "K0U2N-hV7cPD"
      },
      "source": [
        "### Examine Loaded Data"
      ]
    },
    {
      "cell_type": "code",
      "metadata": {
        "id": "DNPK__4A1wHx",
        "colab": {
          "base_uri": "https://localhost:8080/",
          "height": 566
        },
        "outputId": "48fd1774-85a9-4c13-b7df-2ff5438abfa4"
      },
      "source": [
        "# Describe the Data\n",
        "df.describe()\n",
        "print(df.shape)\n",
        "df.head(10)"
      ],
      "execution_count": 7,
      "outputs": [
        {
          "output_type": "stream",
          "name": "stdout",
          "text": [
            "(249990, 28)\n"
          ]
        },
        {
          "output_type": "execute_result",
          "data": {
            "text/html": [
              "<div>\n",
              "<style scoped>\n",
              "    .dataframe tbody tr th:only-of-type {\n",
              "        vertical-align: middle;\n",
              "    }\n",
              "\n",
              "    .dataframe tbody tr th {\n",
              "        vertical-align: top;\n",
              "    }\n",
              "\n",
              "    .dataframe thead th {\n",
              "        text-align: right;\n",
              "    }\n",
              "</style>\n",
              "<table border=\"1\" class=\"dataframe\">\n",
              "  <thead>\n",
              "    <tr style=\"text-align: right;\">\n",
              "      <th></th>\n",
              "      <th>int64_field_0</th>\n",
              "      <th>Year_curr</th>\n",
              "      <th>Month_curr</th>\n",
              "      <th>curr_ss_date</th>\n",
              "      <th>Q</th>\n",
              "      <th>Life_Benefit</th>\n",
              "      <th>With_Map</th>\n",
              "      <th>ITMband</th>\n",
              "      <th>product</th>\n",
              "      <th>product_series</th>\n",
              "      <th>legacy_nonleg</th>\n",
              "      <th>Buyout_Indicator</th>\n",
              "      <th>db_benefit</th>\n",
              "      <th>tax_status</th>\n",
              "      <th>channel</th>\n",
              "      <th>pt_nlg_ind</th>\n",
              "      <th>Withdrawal_Taken</th>\n",
              "      <th>ProRata_ind</th>\n",
              "      <th>Rate_ib_db</th>\n",
              "      <th>AAge_band</th>\n",
              "      <th>Venerable_Ind</th>\n",
              "      <th>_49_1_Indicator</th>\n",
              "      <th>Inforce</th>\n",
              "      <th>Inforce_AV</th>\n",
              "      <th>Inforce_BB</th>\n",
              "      <th>Expected_Pro_Rata_Amount</th>\n",
              "      <th>Actual_Pro_Rata_Amount</th>\n",
              "      <th>Expected</th>\n",
              "    </tr>\n",
              "  </thead>\n",
              "  <tbody>\n",
              "    <tr>\n",
              "      <th>0</th>\n",
              "      <td>7069092</td>\n",
              "      <td>2017.0</td>\n",
              "      <td>8.0</td>\n",
              "      <td>2017-08-31</td>\n",
              "      <td>2017Q3</td>\n",
              "      <td>DB_Only</td>\n",
              "      <td>Other</td>\n",
              "      <td>10% to 20%</td>\n",
              "      <td>ACC</td>\n",
              "      <td>ACC_1995/1996</td>\n",
              "      <td>Legacy</td>\n",
              "      <td>No_Buyout</td>\n",
              "      <td>RAT/ROP</td>\n",
              "      <td>Q</td>\n",
              "      <td>R</td>\n",
              "      <td>False</td>\n",
              "      <td>0.0</td>\n",
              "      <td>0</td>\n",
              "      <td>6.0</td>\n",
              "      <td>81.0</td>\n",
              "      <td>EQH</td>\n",
              "      <td>EQH</td>\n",
              "      <td>1</td>\n",
              "      <td>27733.25</td>\n",
              "      <td>0.00</td>\n",
              "      <td>118.306347</td>\n",
              "      <td>0.0</td>\n",
              "      <td>RWST</td>\n",
              "    </tr>\n",
              "    <tr>\n",
              "      <th>1</th>\n",
              "      <td>8089499</td>\n",
              "      <td>2017.0</td>\n",
              "      <td>8.0</td>\n",
              "      <td>2017-08-31</td>\n",
              "      <td>2017Q3</td>\n",
              "      <td>GMIB</td>\n",
              "      <td>Other</td>\n",
              "      <td>10% to 20%</td>\n",
              "      <td>ACC</td>\n",
              "      <td>ACC_Stylus</td>\n",
              "      <td>Legacy</td>\n",
              "      <td>No_Buyout</td>\n",
              "      <td>MAX/RU</td>\n",
              "      <td>Q</td>\n",
              "      <td>W</td>\n",
              "      <td>True</td>\n",
              "      <td>0.0</td>\n",
              "      <td>0</td>\n",
              "      <td>6.5</td>\n",
              "      <td>73.0</td>\n",
              "      <td>EQH</td>\n",
              "      <td>EQH</td>\n",
              "      <td>1</td>\n",
              "      <td>116078.49</td>\n",
              "      <td>197205.98</td>\n",
              "      <td>40.142844</td>\n",
              "      <td>0.0</td>\n",
              "      <td>STAT</td>\n",
              "    </tr>\n",
              "    <tr>\n",
              "      <th>2</th>\n",
              "      <td>6167791</td>\n",
              "      <td>2017.0</td>\n",
              "      <td>8.0</td>\n",
              "      <td>2017-08-31</td>\n",
              "      <td>2017Q3</td>\n",
              "      <td>GMIB</td>\n",
              "      <td>Other</td>\n",
              "      <td>0% to 10%</td>\n",
              "      <td>ACC</td>\n",
              "      <td>ACC_Stylus</td>\n",
              "      <td>Legacy</td>\n",
              "      <td>No_Buyout</td>\n",
              "      <td>MAX/RU</td>\n",
              "      <td>NQ</td>\n",
              "      <td>W</td>\n",
              "      <td>True</td>\n",
              "      <td>0.0</td>\n",
              "      <td>0</td>\n",
              "      <td>6.5</td>\n",
              "      <td>62.0</td>\n",
              "      <td>EQH</td>\n",
              "      <td>EQH</td>\n",
              "      <td>1</td>\n",
              "      <td>62102.32</td>\n",
              "      <td>88022.12</td>\n",
              "      <td>18.801477</td>\n",
              "      <td>0.0</td>\n",
              "      <td>GAAP</td>\n",
              "    </tr>\n",
              "    <tr>\n",
              "      <th>3</th>\n",
              "      <td>18185720</td>\n",
              "      <td>2019.0</td>\n",
              "      <td>1.0</td>\n",
              "      <td>2019-01-31</td>\n",
              "      <td>2019Q1</td>\n",
              "      <td>DB_Only</td>\n",
              "      <td>Other</td>\n",
              "      <td>-50% to -30%</td>\n",
              "      <td>ACC</td>\n",
              "      <td>ACC_1995/1996</td>\n",
              "      <td>Legacy</td>\n",
              "      <td>No_Buyout</td>\n",
              "      <td>RAT/ROP</td>\n",
              "      <td>NQ</td>\n",
              "      <td>R</td>\n",
              "      <td>False</td>\n",
              "      <td>0.0</td>\n",
              "      <td>0</td>\n",
              "      <td>6.0</td>\n",
              "      <td>86+</td>\n",
              "      <td>EQH</td>\n",
              "      <td>EQH</td>\n",
              "      <td>1</td>\n",
              "      <td>99053.28</td>\n",
              "      <td>0.00</td>\n",
              "      <td>0.000000</td>\n",
              "      <td>0.0</td>\n",
              "      <td>Actual</td>\n",
              "    </tr>\n",
              "    <tr>\n",
              "      <th>4</th>\n",
              "      <td>17251902</td>\n",
              "      <td>2019.0</td>\n",
              "      <td>1.0</td>\n",
              "      <td>2019-01-31</td>\n",
              "      <td>2019Q1</td>\n",
              "      <td>GMIB</td>\n",
              "      <td>Other</td>\n",
              "      <td>-30% to -20%</td>\n",
              "      <td>ACC</td>\n",
              "      <td>ACC_Stylus</td>\n",
              "      <td>Legacy</td>\n",
              "      <td>No_Buyout</td>\n",
              "      <td>MAX/RU</td>\n",
              "      <td>Q</td>\n",
              "      <td>W</td>\n",
              "      <td>True</td>\n",
              "      <td>0.0</td>\n",
              "      <td>0</td>\n",
              "      <td>6.5</td>\n",
              "      <td>74.0</td>\n",
              "      <td>EQH</td>\n",
              "      <td>EQH</td>\n",
              "      <td>1</td>\n",
              "      <td>78243.73</td>\n",
              "      <td>99465.31</td>\n",
              "      <td>98.533633</td>\n",
              "      <td>0.0</td>\n",
              "      <td>STAT</td>\n",
              "    </tr>\n",
              "    <tr>\n",
              "      <th>5</th>\n",
              "      <td>16270596</td>\n",
              "      <td>2019.0</td>\n",
              "      <td>1.0</td>\n",
              "      <td>2019-01-31</td>\n",
              "      <td>2019Q1</td>\n",
              "      <td>GMIB</td>\n",
              "      <td>Other</td>\n",
              "      <td>-50% to -30%</td>\n",
              "      <td>ACC</td>\n",
              "      <td>ACC_Stylus</td>\n",
              "      <td>Legacy</td>\n",
              "      <td>No_Buyout</td>\n",
              "      <td>MAX/RU</td>\n",
              "      <td>Q</td>\n",
              "      <td>W</td>\n",
              "      <td>True</td>\n",
              "      <td>0.0</td>\n",
              "      <td>0</td>\n",
              "      <td>6.0</td>\n",
              "      <td>70.0</td>\n",
              "      <td>EQH</td>\n",
              "      <td>EQH</td>\n",
              "      <td>1</td>\n",
              "      <td>90342.99</td>\n",
              "      <td>104401.18</td>\n",
              "      <td>62.975463</td>\n",
              "      <td>0.0</td>\n",
              "      <td>RWST</td>\n",
              "    </tr>\n",
              "    <tr>\n",
              "      <th>6</th>\n",
              "      <td>16306493</td>\n",
              "      <td>2019.0</td>\n",
              "      <td>1.0</td>\n",
              "      <td>2019-01-31</td>\n",
              "      <td>2019Q1</td>\n",
              "      <td>GMIB</td>\n",
              "      <td>Other</td>\n",
              "      <td>50% to 60%</td>\n",
              "      <td>ACC</td>\n",
              "      <td>ACC_Stylus</td>\n",
              "      <td>Legacy</td>\n",
              "      <td>No_Buyout</td>\n",
              "      <td>MAX/RU</td>\n",
              "      <td>Q</td>\n",
              "      <td>W</td>\n",
              "      <td>True</td>\n",
              "      <td>1.0</td>\n",
              "      <td>0</td>\n",
              "      <td>6.0</td>\n",
              "      <td>76.0</td>\n",
              "      <td>EQH</td>\n",
              "      <td>EQH</td>\n",
              "      <td>1</td>\n",
              "      <td>25357.58</td>\n",
              "      <td>89779.69</td>\n",
              "      <td>6.847075</td>\n",
              "      <td>0.0</td>\n",
              "      <td>RWST</td>\n",
              "    </tr>\n",
              "    <tr>\n",
              "      <th>7</th>\n",
              "      <td>15297266</td>\n",
              "      <td>2019.0</td>\n",
              "      <td>1.0</td>\n",
              "      <td>2019-01-31</td>\n",
              "      <td>2019Q1</td>\n",
              "      <td>GMIB</td>\n",
              "      <td>Other</td>\n",
              "      <td>-30% to -20%</td>\n",
              "      <td>ACC</td>\n",
              "      <td>ACC_Stylus</td>\n",
              "      <td>Legacy</td>\n",
              "      <td>No_Buyout</td>\n",
              "      <td>MAX/RU</td>\n",
              "      <td>Q</td>\n",
              "      <td>W</td>\n",
              "      <td>True</td>\n",
              "      <td>0.0</td>\n",
              "      <td>0</td>\n",
              "      <td>6.0</td>\n",
              "      <td>63.0</td>\n",
              "      <td>EQH</td>\n",
              "      <td>EQH</td>\n",
              "      <td>1</td>\n",
              "      <td>282049.49</td>\n",
              "      <td>314307.21</td>\n",
              "      <td>197.810709</td>\n",
              "      <td>0.0</td>\n",
              "      <td>GAAP</td>\n",
              "    </tr>\n",
              "    <tr>\n",
              "      <th>8</th>\n",
              "      <td>20506963</td>\n",
              "      <td>2020.0</td>\n",
              "      <td>6.0</td>\n",
              "      <td>2020-06-30</td>\n",
              "      <td>2020Q2</td>\n",
              "      <td>DB_Only</td>\n",
              "      <td>Other</td>\n",
              "      <td>40% to 50%</td>\n",
              "      <td>ACC</td>\n",
              "      <td>ACC_1995/1996</td>\n",
              "      <td>Legacy</td>\n",
              "      <td>No_Buyout</td>\n",
              "      <td>RAT/ROP</td>\n",
              "      <td>NQ</td>\n",
              "      <td>R</td>\n",
              "      <td>False</td>\n",
              "      <td>0.0</td>\n",
              "      <td>0</td>\n",
              "      <td>6.0</td>\n",
              "      <td>80.0</td>\n",
              "      <td>EQH</td>\n",
              "      <td>EQH</td>\n",
              "      <td>1</td>\n",
              "      <td>20972.01</td>\n",
              "      <td>0.00</td>\n",
              "      <td>41.545552</td>\n",
              "      <td>0.0</td>\n",
              "      <td>GAAP</td>\n",
              "    </tr>\n",
              "    <tr>\n",
              "      <th>9</th>\n",
              "      <td>22470478</td>\n",
              "      <td>2020.0</td>\n",
              "      <td>6.0</td>\n",
              "      <td>2020-06-30</td>\n",
              "      <td>2020Q2</td>\n",
              "      <td>GMIB</td>\n",
              "      <td>Other</td>\n",
              "      <td>40% to 50%</td>\n",
              "      <td>ACC</td>\n",
              "      <td>ACC_Stylus</td>\n",
              "      <td>Legacy</td>\n",
              "      <td>No_Buyout</td>\n",
              "      <td>MAX/RU</td>\n",
              "      <td>NQ</td>\n",
              "      <td>W</td>\n",
              "      <td>True</td>\n",
              "      <td>0.0</td>\n",
              "      <td>0</td>\n",
              "      <td>6.0</td>\n",
              "      <td>&lt;60</td>\n",
              "      <td>EQH</td>\n",
              "      <td>EQH</td>\n",
              "      <td>2</td>\n",
              "      <td>134838.24</td>\n",
              "      <td>259907.09</td>\n",
              "      <td>28.680094</td>\n",
              "      <td>0.0</td>\n",
              "      <td>STAT</td>\n",
              "    </tr>\n",
              "  </tbody>\n",
              "</table>\n",
              "</div>"
            ],
            "text/plain": [
              "   int64_field_0  Year_curr  ...  Actual_Pro_Rata_Amount Expected\n",
              "0        7069092     2017.0  ...                     0.0     RWST\n",
              "1        8089499     2017.0  ...                     0.0     STAT\n",
              "2        6167791     2017.0  ...                     0.0     GAAP\n",
              "3       18185720     2019.0  ...                     0.0   Actual\n",
              "4       17251902     2019.0  ...                     0.0     STAT\n",
              "5       16270596     2019.0  ...                     0.0     RWST\n",
              "6       16306493     2019.0  ...                     0.0     RWST\n",
              "7       15297266     2019.0  ...                     0.0     GAAP\n",
              "8       20506963     2020.0  ...                     0.0     GAAP\n",
              "9       22470478     2020.0  ...                     0.0     STAT\n",
              "\n",
              "[10 rows x 28 columns]"
            ]
          },
          "metadata": {},
          "execution_count": 7
        }
      ]
    },
    {
      "cell_type": "markdown",
      "metadata": {
        "id": "bOUiOoUF8PNR"
      },
      "source": [
        "### Cache a CSV of Sampled Data"
      ]
    },
    {
      "cell_type": "code",
      "metadata": {
        "id": "suKvDGL577A8"
      },
      "source": [
        "# Export to CSV the Sampled Data\n",
        "df.to_csv('2021-10-15-ProRata-Sample-250K.csv')\n",
        "# Manually open file pane in side bar and download to save this locally/upload to GDrive."
      ],
      "execution_count": 8,
      "outputs": []
    },
    {
      "cell_type": "markdown",
      "metadata": {
        "id": "pxWtshDU25Fc"
      },
      "source": [
        "### Process and Cleanse Data"
      ]
    },
    {
      "cell_type": "code",
      "metadata": {
        "id": "XiYT8OE19YLF"
      },
      "source": [
        "# Add prior claims indicator\n",
        "df['Incur_Age'] = df['CLM_INCUR_YR'] - df['YOB']\n",
        "\n",
        "#df['ORIGINAL_PRECIPITATING_ICD9_OR_ICD10_DIAGNOSIS'].value_counts()\n",
        "df['ORIGINAL_PRECIPITATING_ICD9_OR_ICD10_DIAGNOSIS'] = np.where((df['ORIGINAL_PRECIPITATING_ICD9_OR_ICD10_DIAGNOSIS'] == 'Arthritis') |\n",
        "                                                                (df['ORIGINAL_PRECIPITATING_ICD9_OR_ICD10_DIAGNOSIS'] == 'Stroke') | \n",
        "                                                                (df['ORIGINAL_PRECIPITATING_ICD9_OR_ICD10_DIAGNOSIS'] == 'Unknown'),\n",
        "                                                                'Other',\n",
        "                                                                df['ORIGINAL_PRECIPITATING_ICD9_OR_ICD10_DIAGNOSIS'])\n",
        "dummies = pd.get_dummies(df['ORIGINAL_PRECIPITATING_ICD9_OR_ICD10_DIAGNOSIS'], prefix='OrigDiagnosis')\n",
        "df.drop(['ORIGINAL_PRECIPITATING_ICD9_OR_ICD10_DIAGNOSIS'], axis=1, inplace=True)\n",
        "df = pd.concat([df, dummies], axis=1)\n",
        "\n",
        "underlying_list = df['PRIMARY_UNDERLYING_CONDITION_ICD9_OR_ICD10_DIAGNOSIS'].value_counts()\n",
        "underlying_list = underlying_list[underlying_list > 7000].index.to_list()\n",
        "df['PRIMARY_UNDERLYING_CONDITION_ICD9_OR_ICD10_DIAGNOSIS'] = np.where(np.isin(df['PRIMARY_UNDERLYING_CONDITION_ICD9_OR_ICD10_DIAGNOSIS'],underlying_list),\n",
        "                                                                      df['PRIMARY_UNDERLYING_CONDITION_ICD9_OR_ICD10_DIAGNOSIS'],\n",
        "                                                                      'Other')\n",
        "dummies = pd.get_dummies(df['PRIMARY_UNDERLYING_CONDITION_ICD9_OR_ICD10_DIAGNOSIS'], prefix='UnderlyingDiagnosis')\n",
        "df.drop(['PRIMARY_UNDERLYING_CONDITION_ICD9_OR_ICD10_DIAGNOSIS'], axis=1, inplace=True)\n",
        "df = pd.concat([df, dummies], axis=1)\n",
        "\n",
        "dummies = pd.get_dummies(df['ORIGINAL_LEVEL_OF_CARE_FOR_THIS_CLAIM'], prefix='OrigLevelofCare', drop_first=True)\n",
        "df.drop(['ORIGINAL_LEVEL_OF_CARE_FOR_THIS_CLAIM'], axis=1,inplace=True)\n",
        "df = pd.concat([df, dummies], axis=1)\n",
        "\n",
        "\n",
        "df.drop(df[df['Claim_Duration']==0].index, inplace=True)\n",
        "\n",
        "# Time: quarterly for 2 years, then annual\n",
        "'''\n",
        "Time_bins = [0,91,182,273,365,\n",
        "             456,547,638,730,\n",
        "             821,912,1003,1095,\n",
        "             1187,1278,1369,1461,\n",
        "             1552,1643,1734,1826,\n",
        "             2191,2556,2922,3287,3652,4017,4383,4748,5113,5478]\n",
        "'''\n",
        "Time_bins = [0,91,182,273,365,\n",
        "             456,547,638,730,\n",
        "             1095,1461,1826,2191,2556,2922,3287,3652,4017,4383,4748,5113,5478]\n",
        "'''\n",
        "Time_bins = [0,91,182,273,365,\n",
        "             456,547,638,730,\n",
        "             1095,1461,1826,2191,2556,2922,3287,3652,5478]\n",
        "'''\n",
        "Time_bins_labels = list(range(0,len(Time_bins)-1))\n",
        "\n",
        "dic_K = {1:1, 2:2, 3:0, 4:0, 5:0, 6:0}  # 1 = Recovery, 2 = Death\n",
        "df['TerminationReason']=df['CLAIM_STATUS'].map(dic_K)\n",
        "df['Time_of_Event'] = pd.cut(df['Claim_Duration'], bins=Time_bins, labels=Time_bins_labels) \n",
        "\n",
        "df.drop(['Num_Claims','Claim_Duration','LEVEL_OF_CARE_FOR_THIS_PAYMENT','CLAIM_STATUS','PLCY_ID','YOB','ZIPCD_RES_CLM'], \n",
        "        axis=1, inplace=True)\n",
        "\n",
        "df.dropna(subset=['Time_of_Event'], inplace=True)\n",
        "print(df.shape)\n",
        "df['PAID_UP_OPTION_INDICATOR'] = df['PAID_UP_OPTION_INDICATOR'].fillna(0)\n",
        "df.dropna(inplace=True)\n",
        "\n",
        "print(df.shape)\n",
        "df = df.sample(226000)\n",
        "df.sample(5)"
      ],
      "execution_count": null,
      "outputs": []
    },
    {
      "cell_type": "markdown",
      "metadata": {
        "id": "ET6Nx34ETBct"
      },
      "source": [
        "**Additional Data Prep**\n",
        "- Normalize data\n",
        "- Create masks\n",
        "- Split data into train and test\n"
      ]
    },
    {
      "cell_type": "code",
      "metadata": {
        "id": "iFYKI5x77y0C"
      },
      "source": [
        "# Source: https://github.com/chl8856/DeepHit/blob/master/class_DeepHit.py\n",
        "\n",
        "def f_get_Normalization(X, norm_mode):\n",
        "    num_Record, num_Feature = np.shape(X)\n",
        "\n",
        "    if norm_mode == 'standard': #zero mean unit variance\n",
        "        for j in range(num_Feature):\n",
        "            if np.std(X[:,j]) != 0:\n",
        "                X[:,j] = (X[:,j] - np.mean(X[:, j]))/np.std(X[:,j])\n",
        "            else:\n",
        "                X[:,j] = (X[:,j] - np.mean(X[:, j]))\n",
        "    elif norm_mode == 'normal': #min-max normalization\n",
        "        for j in range(num_Feature):\n",
        "            X[:,j] = (X[:,j] - np.min(X[:,j]))/(np.max(X[:,j]) - np.min(X[:,j]))\n",
        "    else:\n",
        "        print(\"INPUT MODE ERROR!\")\n",
        "\n",
        "    return X\n",
        "\n",
        "### MASK FUNCTIONS\n",
        "'''\n",
        "    fc_mask2      : To calculate LOSS_1 (log-likelihood loss)\n",
        "    fc_mask3      : To calculate LOSS_2 (ranking loss)\n",
        "'''\n",
        "def f_get_fc_mask2(time, label, num_Event, num_Category):\n",
        "    '''\n",
        "        mask4 is required to get the log-likelihood loss\n",
        "        mask4 size is [N, num_Event, num_Category]\n",
        "            if not censored : one element = 1 (0 elsewhere)\n",
        "            if censored     : fill elements with 1 after the censoring time (for all events)\n",
        "    '''\n",
        "    mask = np.zeros([np.shape(time)[0], num_Event, num_Category]) # for the first loss function\n",
        "    for i in range(np.shape(time)[0]):\n",
        "        if label[i,0] != 0:  #not censored\n",
        "            mask[i,int(label[i,0]-1),int(time[i,0])] = 1\n",
        "        else: #label[i,2]==0: censored\n",
        "            mask[i,:,int(time[i,0]+1):] =  1 #fill 1 until from the censoring time (to get 1 - \\sum F)\n",
        "    return mask\n",
        "\n",
        "\n",
        "def f_get_fc_mask3(time, meas_time, num_Category):\n",
        "    '''\n",
        "        mask5 is required calculate the ranking loss (for pair-wise comparision)\n",
        "        mask5 size is [N, num_Category].\n",
        "        - For longitudinal measurements:\n",
        "             1's from the last measurement to the event time (exclusive and inclusive, respectively)\n",
        "             denom is not needed since comparing is done over the same denom\n",
        "        - For single measurement:\n",
        "             1's from start to the event time(inclusive)\n",
        "    '''\n",
        "    mask = np.zeros([np.shape(time)[0], num_Category]) # for the first loss function\n",
        "    if np.shape(meas_time):  #lonogitudinal measurements\n",
        "        for i in range(np.shape(time)[0]):\n",
        "            t1 = int(meas_time[i, 0]) # last measurement time\n",
        "            t2 = int(time[i, 0]) # censoring/event time\n",
        "            mask[i,(t1+1):(t2+1)] = 1  #this excludes the last measurement time and includes the event time\n",
        "    else:                    #single measurement\n",
        "        for i in range(np.shape(time)[0]):\n",
        "            t = int(time[i, 0]) # censoring/event time\n",
        "            mask[i,:(t+1)] = 1  #this excludes the last measurement time and includes the event time\n",
        "    return mask"
      ],
      "execution_count": null,
      "outputs": []
    },
    {
      "cell_type": "code",
      "metadata": {
        "id": "brOBUXRF8V1L"
      },
      "source": [
        "data = np.asarray(df.iloc[:,:-2])\n",
        "label = np.asarray(df[['TerminationReason']])\n",
        "time = np.asarray(df[['Time_of_Event']])\n",
        "\n",
        "#data = f_get_Normalization(data, 'standard')\n",
        "scaler = StandardScaler()\n",
        "scaler.fit(data)\n",
        "data = scaler.transform(data)\n",
        "\n",
        "num_Category = int(np.max(time)) + 1\n",
        "num_Event = int(len(np.unique(label)) - 1) #only count the number of events (do not count censoring as an event)\n",
        "x_dim = np.shape(data)[1]\n",
        "\n",
        "mask1 = f_get_fc_mask2(time, label, num_Event, num_Category)\n",
        "mask2 = f_get_fc_mask3(time, -1, num_Category)\n",
        "\n",
        "(tr_data, te_data, tr_time, te_time, tr_label,te_label, tr_mask1,te_mask1, \n",
        " tr_mask2, te_mask2, tr_claimID, te_claimID )  = train_test_split(data, time, label, mask1, mask2, df.index, test_size=0.08) "
      ],
      "execution_count": null,
      "outputs": []
    },
    {
      "cell_type": "markdown",
      "metadata": {
        "id": "0Ped1XwnTAYJ"
      },
      "source": [
        "# II. Model\n",
        "\n",
        "“DeepHit” is a survival analysis model that takes competing risks into considerations.  It was introduced in a paper by Changhee Lee, William R. Zame, Jinsung Yoon, Mihaela van der Schaar in April 2018.\n",
        "\n",
        "DeepHit trains a neural network to learn the\n",
        "estimated joint distribution of of survival time and event,\n",
        "while capturing the right-censored nature inherent in survival\n",
        "data.  The events of interest in our analysis include Recovery and Death.  All other events are treated as right-censoring.\n",
        "\n",
        "The diagram below shows the architecture of the model.\n",
        "\n",
        "![DeepHit_Architecture.PNG](data:image/png;base64,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)"
      ]
    },
    {
      "cell_type": "code",
      "metadata": {
        "id": "sKlTVKPVhN9H"
      },
      "source": [
        "class DeepHit(Model):\n",
        "  def __init__(self, input_dims, network_settings, **kwargs):\n",
        "    super().__init__(**kwargs) \n",
        "    \n",
        "    # INPUT DIMENSIONS      \n",
        "    #   - x_dim: dimension of features\n",
        "    #   - num_Event: number of competing events (this does not include censoring label)\n",
        "    #   - num_TimeBucket: dimension of time horizon of interest, i.e., |T| where T = {0, 1, ..., T_max-1} \n",
        "    self.x_dim = input_dims['x_dim']\n",
        "    self.num_Event = input_dims['num_Event']\n",
        "    self.num_Category = input_dims['num_Category']\n",
        "\n",
        "    # NETWORK HYPER-PARAMETERS\n",
        "    #   - h_dim_shared & num_layers_shared: number of nodes and number of fully-connected layers for the shared subnetwork\n",
        "    #   - h_dim_CS & num_layers_CS: number of nodes and number of fully-connected layers for the cause-specific subnetworks\n",
        "    #   - active_fn: 'relu', 'elu', 'tanh'\n",
        "    #   - initial_W: Xavier initialization is used as a baseline\n",
        "    self.h_dim_shared = network_settings['h_dim_shared']\n",
        "    self.h_dim_CS = network_settings['h_dim_CS']\n",
        "    self.active_fn = network_settings['active_fn']\n",
        "    self.initial_W = network_settings['initial_W']\n",
        "\n",
        "    self.SharedSubNetwork = keras.layers.Dense(self.h_dim_shared, activation = self.active_fn, kernel_initializer= self.initial_W)\n",
        "    self.dropout1 = keras.layers.Dropout(0.3)\n",
        "    self.concat = keras.layers.Concatenate()\n",
        "    \n",
        "    self.CSSubNetwork_l1 = keras.layers.Dense(self.h_dim_CS*2, activation = self.active_fn, kernel_initializer= self.initial_W)\n",
        "    self.dropout2 = keras.layers.Dropout(0.3)\n",
        "    self.CSSubNetwork_l2 = keras.layers.Dense(self.h_dim_CS, activation = self.active_fn, kernel_initializer= self.initial_W)\n",
        "    self.dropout3 = keras.layers.Dropout(0.3)\n",
        "\n",
        "    self.OutputLayer = keras.layers.Dense(self.num_Event * self.num_Category, activation = 'softmax')\n",
        "\n",
        "  def call(self, inputs, training = False):\n",
        "    fs = self.SharedSubNetwork(inputs)\n",
        "    if training:\n",
        "      fs = self.dropout1(fs)\n",
        "    z = self.concat([fs, inputs])\n",
        "\n",
        "    out = []\n",
        "    for _ in range(self.num_Event):\n",
        "      cs_out = self.CSSubNetwork_l1(z)\n",
        "      if training:\n",
        "        cs_out = self.dropout2(cs_out)\n",
        "      cs_out = self.CSSubNetwork_l2(cs_out)\n",
        "      if training:\n",
        "        cs_out = self.dropout3(cs_out)\n",
        "      out.append(cs_out)\n",
        "    \n",
        "    out = tf.stack(out, axis=1)\n",
        "    out = tf.reshape(out, [-1, self.num_Event*self.h_dim_CS])\n",
        "    out = self.OutputLayer(out)\n",
        "    out = tf.reshape(out, [-1, self.num_Event, self.num_Category])\n",
        "    return out"
      ],
      "execution_count": null,
      "outputs": []
    },
    {
      "cell_type": "markdown",
      "metadata": {
        "id": "HZmBYW8tSYaW"
      },
      "source": [
        "**Loss Function**"
      ]
    },
    {
      "cell_type": "code",
      "metadata": {
        "id": "YkAItVApSEUj"
      },
      "source": [
        "def loss_total(mask1, y_pred, k, t,mask2, alpha):\n",
        "\n",
        "  return loss_Log_Likelihood(mask1, y_pred, k) + alpha * loss_Ranking(mask2, y_pred, k, t) + 0.5*smoothing(y_pred)\n",
        "\n",
        "def loss_Log_Likelihood(mask1, y_pred, k):\n",
        "  I_1 = tf.sign(k)\n",
        "  I_1 = tf.cast(I_1, dtype = tf.float32)\n",
        "  mask1 = tf.cast(mask1, dtype = tf.float32)  \n",
        "\n",
        "  #for uncenosred: log P(T=t,K=k|x)\n",
        "  tmp1 = tf.reduce_sum(tf.reduce_sum(mask1 * y_pred, axis=2), axis=1, keepdims=True)\n",
        "  tmp1 = I_1 * log(tmp1)\n",
        "    \n",
        "  #for censored: log \\sum P(T>t|x)\n",
        "  tmp2 = tf.reduce_sum(tf.reduce_sum(mask1 * y_pred, axis=2), axis=1, keepdims=True)\n",
        "  tmp2 = (1. - I_1) * log(tmp2)\n",
        "\n",
        "  return - tf.reduce_mean(tmp1 + 1.0*tmp2)\n",
        "\n",
        "def loss_Ranking(mask2, y_pred, k, t):\n",
        "  sigma1 = tf.constant(0.1, dtype=tf.float32)\n",
        "  mask2 = tf.cast(mask2, dtype = tf.float32)\n",
        "  t = tf.cast(t, dtype = tf.float32)\n",
        "\n",
        "  eta = []\n",
        "  for e in range(num_Event):\n",
        "    one_vector = tf.ones_like(t, dtype=tf.float32)\n",
        "    I_2 = tf.cast(tf.equal(k, e+1), dtype = tf.float32) #indicator for event\n",
        "    I_2 = tf.linalg.diag(tf.squeeze(I_2))\n",
        "    tmp_e = tf.reshape(tf.slice(y_pred, [0, e, 0], [-1, 1, -1]), [-1, num_Category]) #event specific joint prob.\n",
        "\n",
        "    R = tf.matmul(tmp_e, tf.transpose(mask2)) #no need to divide by each individual dominator\n",
        "    # r_{ij} = risk of i-th pat based on j-th time-condition (last meas. time ~ event time) , i.e. r_i(T_{j})\n",
        "\n",
        "    diag_R = tf.reshape(tf.linalg.diag_part(R), [-1, 1])\n",
        "    R = tf.matmul(one_vector, tf.transpose(diag_R)) - R # R_{ij} = r_{j}(T_{j}) - r_{i}(T_{j})\n",
        "    R = tf.transpose(R)                                 # Now, R_{ij} (i-th row j-th column) = r_{i}(T_{i}) - r_{j}(T_{i})\n",
        "\n",
        "    T = tf.nn.relu(tf.sign(tf.matmul(one_vector, tf.transpose(t)) - tf.matmul(t, tf.transpose(one_vector))))\n",
        "    # T_{ij}=1 if t_i < t_j  and T_{ij}=0 if t_i >= t_j\n",
        "\n",
        "    T = tf.matmul(I_2, T) # only remains T_{ij}=1 when event occured for subject i\n",
        "\n",
        "    tmp_eta = tf.reduce_mean(T * tf.exp(-R/sigma1), axis=1, keepdims=True)\n",
        "\n",
        "    eta.append(tmp_eta)\n",
        "    eta = tf.stack(eta, axis=1) #stack referenced on subjects\n",
        "    eta = tf.reduce_mean(tf.reshape(eta, [-1, num_Event]), axis=1, keepdims=True)\n",
        "\n",
        "    return tf.reduce_sum(eta) #sum over num_Events"
      ],
      "execution_count": null,
      "outputs": []
    },
    {
      "cell_type": "code",
      "metadata": {
        "id": "XsCvy1E5lfFc"
      },
      "source": [
        "def smoothing(y_pred):\n",
        "\n",
        "  #tau = tf.reduce_sum(tf.reduce_mean(y_pred, axis=0),axis=0)\n",
        "  tau = tf.reduce_mean(y_pred, axis=0)\n",
        "  if tau[1,num_Category-1] > 3.0* tau[1,num_Category-2]:\n",
        "    excess = tau[1,num_Category-1] - 3.0*tau[1,num_Category-2]\n",
        "  else:\n",
        "    excess = 0.0\n",
        "  \n",
        "  excess = excess + tf.math.abs(tau[1,num_Category-2]-tau[1,num_Category-3]) + tf.math.abs(tau[1,num_Category-3]-tau[1,num_Category-4]) + tf.math.abs(tau[1,num_Category-4]-tau[1,num_Category-5]) + tf.math.abs(tau[1,num_Category-5]-tau[1,num_Category-6]) + tf.math.abs(tau[0,num_Category-1]-tau[0,num_Category-2]) + tf.math.abs(tau[0,num_Category-2]-tau[0,num_Category-3]) + tf.math.abs(tau[0,num_Category-3]-tau[0,num_Category-4])\n",
        "\n",
        "  return excess"
      ],
      "execution_count": null,
      "outputs": []
    },
    {
      "cell_type": "markdown",
      "metadata": {
        "id": "J7yZ-LiOTIE5"
      },
      "source": [
        "# III. Training"
      ]
    },
    {
      "cell_type": "code",
      "metadata": {
        "id": "KhAdDx7Tmrx7"
      },
      "source": [
        "input_dims = {'x_dim': x_dim,\n",
        "              'num_Event': num_Event,\n",
        "              'num_Category': num_Category}\n",
        "\n",
        "network_settings = {'h_dim_shared':64,\n",
        "                    'h_dim_CS':64,\n",
        "                    'active_fn': 'relu',\n",
        "                    'initial_W': 'glorot_normal'}\n",
        "\n",
        "model = DeepHit(input_dims, network_settings)\n",
        "\n",
        "optimizer = keras.optimizers.Adam(learning_rate=0.0001)"
      ],
      "execution_count": null,
      "outputs": []
    },
    {
      "cell_type": "code",
      "metadata": {
        "id": "zXe7PKF72sNw"
      },
      "source": [
        "train_dataset = tf.data.Dataset.from_tensor_slices((tr_data, tr_time, tr_label, tr_mask1, tr_mask2))\n",
        "test_dataset = tf.data.Dataset.from_tensor_slices((te_data, te_time, te_label, te_mask1, te_mask2))\n",
        "\n",
        "batch_size = 128\n",
        "train_dataset = train_dataset.shuffle(buffer_size=1024).batch(batch_size)\n",
        "test_dataset = test_dataset.batch(batch_size)\n",
        "\n",
        "alpha = 0.3\n",
        "epochs = 20\n",
        "for epoch in range(epochs):\n",
        "  print(\"\\nStart of epoch %d\" % (epoch,))\n",
        "\n",
        "  # Iterate over the batches of the dataset.\n",
        "  losses=[]\n",
        "  for step, (x_batch_train, s_batch_train, k_batch_train, y_batch_train, mask2_batch_train) in enumerate(train_dataset):\n",
        "    with tf.GradientTape() as tape:\n",
        "      y_pred = model(x_batch_train, training = True)\n",
        "      loss_value = loss_total(y_batch_train, y_pred, k_batch_train, s_batch_train, mask2_batch_train, alpha) \n",
        "      \n",
        "    gradients = tape.gradient(loss_value, model.trainable_weights)\n",
        "    optimizer.apply_gradients(zip(gradients, model.trainable_weights))\n",
        "    losses.append(loss_value)\n",
        "\n",
        "  losses_mean = np.mean(losses)\n",
        "  print('Loss = {}'.format(losses_mean))\n",
        "\n",
        "  val_losses=[]\n",
        "  for x_batch_val, s_batch_val, k_batch_val, y_batch_val, mask2_batch_val in test_dataset:\n",
        "    val_y_pred = model(x_batch_val)\n",
        "    val_loss = loss_total(y_batch_val, val_y_pred, k_batch_val, s_batch_val, mask2_batch_val, alpha)\n",
        "    val_losses.append(val_loss)\n",
        "  \n",
        "  val_losses_mean = np.mean(val_losses)\n",
        "  print('Validation Loss = {}'.format(val_losses_mean))\n"
      ],
      "execution_count": null,
      "outputs": []
    },
    {
      "cell_type": "markdown",
      "metadata": {
        "id": "Zf8_S9x2TMh5"
      },
      "source": [
        "# IV. Sample Model Output\n",
        "\n"
      ]
    },
    {
      "cell_type": "code",
      "metadata": {
        "id": "-bCQYb36ICs2"
      },
      "source": [
        "def calcSurv(tau_dist):\n",
        "  surv = 1.0 - tau_dist.cumsum(axis=-1)\n",
        "  surv = np.insert(surv, 0, 1.0, axis=-1)\n",
        "  surv = np.delete(surv, surv.shape[-1]-1, axis=-1)\n",
        "  return surv\n",
        "\n",
        "def calcMonthlyTermRate(termination_rate):\n",
        "  time_steps = np.ones_like(termination_rate)\n",
        "  time_steps[:,:,8:]=12\n",
        "  time_steps[:,:,0:8]=3\n",
        "  return termination_rate / time_steps"
      ],
      "execution_count": null,
      "outputs": []
    },
    {
      "cell_type": "code",
      "metadata": {
        "id": "CHR0ZepodjYp"
      },
      "source": [
        "df_sample = df.sample(2)\n",
        "df_sample[['GNDR','YR_OF_ISSUE','CLM_INCUR_YR','Incur_Age','BENEFIT_PAYMENT_TYPE',\n",
        "           'OrigDiagnosis_Alzheimer’s and Dementia','OrigDiagnosis_Cancer','OrigDiagnosis_Circulatory','OrigDiagnosis_Injury',\n",
        "           'OrigDiagnosis_Nervous System','OrigDiagnosis_Other','OrigLevelofCare_1','OrigLevelofCare_2','OrigLevelofCare_3',\n",
        "           'TerminationReason','Time_of_Event']].head()"
      ],
      "execution_count": null,
      "outputs": []
    },
    {
      "cell_type": "code",
      "metadata": {
        "id": "HgIGmmZ81Xs0"
      },
      "source": [
        "data_sample = np.asarray(df_sample.iloc[:,:-2])\n",
        "data_sample = scaler.transform(data_sample)\n",
        "y_test_sample = model.predict(data_sample)\n",
        "\n",
        "x = ['q1','q2','q3','q4','q5','q6','q7','q8','Y3','Y4','Y5','Y6','Y7','Y8','Y9','Y10','Y11','Y12','Y13','Y14','Y15']\n",
        "\n",
        "f, (ax1, ax2) = plt.subplots(2, 1, sharey='col')\n",
        "ax1.plot(x,y_test_sample[0,0,:], label = 'Recovery',marker = 'o')\n",
        "ax1.plot(x,y_test_sample[0,1,:], label = 'Death',marker = 'o')\n",
        "ax1.set_ylabel('Prob of Termination', axes=ax1)\n",
        "ax1.set_ylim((0.0,0.25))\n",
        "\n",
        "ax2.plot(x,y_test_sample[1,0,:], label = 'Recovery',marker = 'o')\n",
        "ax2.plot(x,y_test_sample[1,1,:], label = 'Death',marker = 'o')\n",
        "ax2.set_xlabel('Claim Duration', axes=ax2)\n",
        "ax2.set_ylabel('Prob of Termination', axes=ax2)\n",
        "plt.legend()\n",
        "\n",
        "f.suptitle('Termination Distribution')\n",
        "\n",
        "tau_distribution = y_test_sample.sum(axis=1, keepdims=True)\n",
        "surv = calcSurv(tau_distribution)\n",
        "termination_rate = y_test_sample / surv\n",
        "termination_rate_monthly = calcMonthlyTermRate(termination_rate)\n",
        "\n",
        "f, (ax1, ax2) = plt.subplots(2, 1, sharey='col')\n",
        "ax1.plot(x,termination_rate_monthly[0,0,:], label = 'Recovery')\n",
        "ax1.plot(x,termination_rate_monthly[0,1,:], label = 'Death')\n",
        "ax1.plot(x,termination_rate_monthly.sum(axis=1)[0], label = 'Total', marker = 'o', color = 'g')\n",
        "ax1.set_ylabel('Termination Rate', axes=ax1)\n",
        "ax1.set_ylim((0.0,0.1))\n",
        "\n",
        "ax2.plot(x,termination_rate_monthly[1,0,:], label = 'Recovery')\n",
        "ax2.plot(x,termination_rate_monthly[1,1,:], label = 'Death')\n",
        "ax2.plot(x,termination_rate_monthly.sum(axis=1)[1], label = 'Total', marker = 'o', color = 'y')\n",
        "ax2.set_xlabel('Claim Duration', axes=ax2)\n",
        "ax2.set_ylabel('Monthly Termination Rate', axes=ax2)\n",
        "plt.legend()\n",
        "\n",
        "f.suptitle('Monthly Termination Rates')\n",
        "\n",
        "f, ax1 = plt.subplots(1, 1, sharey='col')\n",
        "ax1.plot(x, surv[0,0,:], label = 'Claim 1', marker = 'o', color = 'g')\n",
        "ax1.plot(x, surv[1,0,:], label = 'Claim 2', marker = 'o', color = 'y')\n",
        "ax1.set_xlabel('Time')\n",
        "ax1.set_ylabel('Survivorship')\n",
        "plt.legend()\n",
        "f.suptitle('Claim Continuation')"
      ],
      "execution_count": null,
      "outputs": []
    },
    {
      "cell_type": "markdown",
      "metadata": {
        "id": "aMUiCXgXQQUE"
      },
      "source": [
        "# V. Model Evaluation"
      ]
    },
    {
      "cell_type": "markdown",
      "metadata": {
        "id": "TDfE2NWWcXvH"
      },
      "source": [
        "## **A. Concordance Index**\n",
        "\n",
        "For discriminative performance\n",
        "\n",
        "Fitted survival models typically have a concordance index between 0.55 and 0.75.\n",
        "\n",
        "[Add benchmarking to other models]"
      ]
    },
    {
      "cell_type": "code",
      "metadata": {
        "id": "lPaV6MA4APXG"
      },
      "source": [
        "def c_index(Prediction, Time_survival, Death, Time):\n",
        "    '''\n",
        "        This is a cause-specific c(t)-index\n",
        "        - Prediction      : risk at Time (higher --> more risky)\n",
        "        - Time_survival   : survival/censoring time\n",
        "        - Death           :\n",
        "            > 1: death\n",
        "            > 0: censored (including death from other cause)\n",
        "        - Time            : time of evaluation (time-horizon when evaluating C-index)\n",
        "    '''\n",
        "    N = len(Prediction)\n",
        "    A = np.zeros((N,N))\n",
        "    Q = np.zeros((N,N))\n",
        "    N_t = np.zeros((N,N))\n",
        "    Num = 0\n",
        "    Den = 0\n",
        "    for i in range(N):\n",
        "        A[i, np.where(Time_survival[i] < Time_survival)] = 1\n",
        "        Q[i, np.where(Prediction[i] > Prediction)] = 1\n",
        "  \n",
        "        if (Time_survival[i]<=Time and Death[i]==1):\n",
        "            N_t[i,:] = 1\n",
        "\n",
        "    Num  = np.sum(((A)*N_t)*Q)\n",
        "    Den  = np.sum((A)*N_t)\n",
        "\n",
        "    if Num == 0 and Den == 0:\n",
        "        result = -1 # not able to compute c-index!\n",
        "    else:\n",
        "        result = float(Num/Den)\n",
        "\n",
        "    return result"
      ],
      "execution_count": null,
      "outputs": []
    },
    {
      "cell_type": "code",
      "metadata": {
        "id": "Znzo_ir2VGD6"
      },
      "source": [
        "pred = model.predict(te_data)\n",
        "\n",
        "EVAL_TIMES = [4, 8, 9, 10, 16]\n",
        "result = np.zeros([num_Event, len(EVAL_TIMES)])\n",
        "for t, t_time in enumerate(EVAL_TIMES):\n",
        "  eval_horizon = int(t_time)\n",
        "  risk = np.sum(pred[:,:,:(eval_horizon+1)], axis=2)\n",
        "  \n",
        "  for k in range(num_Event):\n",
        "    result[k, t] = c_index(risk[:,k], te_time, (te_label[:,0] == k+1).astype(float), eval_horizon)\n",
        "\n",
        "result"
      ],
      "execution_count": null,
      "outputs": []
    },
    {
      "cell_type": "markdown",
      "metadata": {
        "id": "Z8vHGndvbTtQ"
      },
      "source": [
        "## **B. Actual Vs Expected Termination Rates**"
      ]
    },
    {
      "cell_type": "code",
      "metadata": {
        "id": "e7LiGnxpbb7Z"
      },
      "source": [
        "def exposure_mask(tau):\n",
        "  mask = [1 if i <= int(tau) else 0 for i in range(num_Category)]\n",
        "  return np.array(mask)\n",
        "\n",
        "def termination_mask(k, tau):\n",
        "    mask = np.zeros([num_Event, num_Category])\n",
        "    if k != 0:  #not censored\n",
        "      mask[int(k-1),int(tau)] = 1\n",
        "    return mask"
      ],
      "execution_count": null,
      "outputs": []
    },
    {
      "cell_type": "code",
      "metadata": {
        "id": "9NtiGovBdYqW"
      },
      "source": [
        "df_test = df.loc[te_claimID]\n",
        "\n",
        "origDiagnosis = [\"OrigDiagnosis_Alzheimer’s and Dementia\"\t,\"OrigDiagnosis_Cancer\",\t\"OrigDiagnosis_Circulatory\",\n",
        "               \"OrigDiagnosis_Injury\",\"OrigDiagnosis_Nervous System\",\"OrigDiagnosis_Other\"]\n",
        "OrigDiagnosis = df_test[origDiagnosis]\n",
        "df_test['ORIGINAL_PRECIPITATING_ICD9_OR_ICD10_DIAGNOSIS'] = OrigDiagnosis.idxmax(axis=1).str[14:]\n",
        "df_test.drop(origDiagnosis,axis=1,inplace=True)\n",
        "\n",
        "origLevelofCare = ['OrigLevelofCare_1','OrigLevelofCare_2','OrigLevelofCare_3']\n",
        "OrigLevelofCare = df_test[origLevelofCare]\n",
        "df_test['ORIGINAL_LEVEL_OF_CARE_FOR_THIS_CLAIM'] = OrigLevelofCare.idxmax(axis=1).str[-1]\n",
        "df_test.drop(origLevelofCare,axis=1,inplace=True)\n",
        "\n",
        "df_test['AgeBand'] = pd.cut(df_test['Incur_Age'],[0,65,70,75,80,85,95], right=False,\n",
        "                            labels=['<65','65-69','70-74','75-79','80-84','85+'])\n",
        "\n",
        "df_test['EraBand'] = pd.cut(df_test['YR_OF_ISSUE'],[0,1990,1995,2000,2005,2015], right=False,\n",
        "                            labels=['<1990','1990-94','1995-99','2000-04','2005+'])\n",
        "\n",
        "df_test['Pred'] = pred.tolist()\n",
        "df_test['k_dist'] = df_test['Pred'].apply(lambda x: np.array(x).sum(axis=1))\n",
        "df_test['tau_dist'] = df_test['Pred'].apply(lambda x: np.array(x).sum(axis=0))\n",
        "\n",
        "df_test['exposure'] = df_test.apply(lambda x: exposure_mask(x['Time_of_Event']), axis=1)\n",
        "df_test['term_mask'] = df_test.apply(lambda x: termination_mask(x['TerminationReason'],x['Time_of_Event']), axis=1)\n",
        "\n",
        "df_test.sample(5)"
      ],
      "execution_count": null,
      "outputs": []
    },
    {
      "cell_type": "code",
      "metadata": {
        "id": "S60LoBQtYdcH"
      },
      "source": [
        "actual_term_rate = np.array(df_test['term_mask']).sum() / np.array(df_test['exposure']).sum()\n",
        "\n",
        "expected_distribution = df_test.apply(lambda x: np.array(x['Pred']), axis=1).mean()\n",
        "surv = calcSurv(expected_distribution.sum(axis=0))\n",
        "expected_term_rate = expected_distribution / surv\n",
        "\n",
        "f, ax1 = plt.subplots(1, 1, sharey='col')\n",
        "ax1.plot(x[:-1], actual_term_rate[0,:-1], label = 'Actual', marker = 'o')\n",
        "ax1.plot(x[:-1], expected_term_rate[0,:-1], label = 'Expected', marker = 'o')\n",
        "ax1.set_xlabel('Time (Claim Duration)')\n",
        "ax1.set_ylabel('Termination Rate')\n",
        "plt.legend()\n",
        "ax1.set_ylim((0.0,0.4))\n",
        "f.suptitle('Recovery Rate')\n",
        "\n",
        "f, ax1 = plt.subplots(1, 1, sharey='col')\n",
        "ax1.plot(x[:-1], actual_term_rate[1,:-1], label = 'Actual', marker = 'o')\n",
        "ax1.plot(x[:-1], expected_term_rate[1,:-1], label = 'Expected', marker = 'o')\n",
        "ax1.set_xlabel('Time (Claim Duration)')\n",
        "ax1.set_ylabel('Termination Rate')\n",
        "plt.legend()\n",
        "ax1.set_ylim((0.0,0.4))\n",
        "f.suptitle('Mortality Rate')"
      ],
      "execution_count": null,
      "outputs": []
    },
    {
      "cell_type": "code",
      "metadata": {
        "id": "h2XdXqShTNj9"
      },
      "source": [
        "expected_distribution"
      ],
      "execution_count": null,
      "outputs": []
    },
    {
      "cell_type": "code",
      "metadata": {
        "id": "oL8fXIC8N_ju"
      },
      "source": [
        "actual_term = np.array(df_test['term_mask']).sum()\n",
        "actual_term"
      ],
      "execution_count": null,
      "outputs": []
    },
    {
      "cell_type": "code",
      "metadata": {
        "id": "cedirEnhOK_q"
      },
      "source": [
        "actual_exposure = np.array(df_test['exposure']).sum()\n",
        "actual_exposure"
      ],
      "execution_count": null,
      "outputs": []
    },
    {
      "cell_type": "markdown",
      "metadata": {
        "id": "eRAboMW_L7YW"
      },
      "source": [
        "# VI. Additional Analytics\n",
        "\n",
        "This section analyzes, through aggregation and slicing and dicing of the model results, to gain more insights into what the model learned from the data"
      ]
    },
    {
      "cell_type": "code",
      "metadata": {
        "id": "Eifwsaon5ypT"
      },
      "source": [
        "def analyze_claim(g):\n",
        "  g_surv = g.apply(lambda subf: np.array(subf['tau_dist']).mean())\n",
        "  g_surv = g_surv.apply(lambda y: calcSurv(np.array(y)))\n",
        "  \n",
        "  plt.figure()\n",
        "  for index, value in g_surv.items():\n",
        "    plt.plot(x,value, label = index)\n",
        "  plt.title('Claim Continuation')\n",
        "  plt.legend()\n",
        "  plt.show()\n",
        "\n",
        "  print('\\nCause of Termination Distribution [Recovery, Death]:')\n",
        "  print(g.apply(lambda subf: np.array(subf['k_dist']).mean()))"
      ],
      "execution_count": null,
      "outputs": []
    },
    {
      "cell_type": "markdown",
      "metadata": {
        "id": "cSyrJTzutGPu"
      },
      "source": [
        "### *By Incur Age*\n",
        "- Younger incurred age tend to recover quickly\n",
        "- Mortality becomes dominant termination factor in later durations"
      ]
    },
    {
      "cell_type": "code",
      "metadata": {
        "id": "XvfeYqIi6IjJ"
      },
      "source": [
        "g = df_test.groupby('AgeBand')\n",
        "analyze_claim(g)"
      ],
      "execution_count": null,
      "outputs": []
    },
    {
      "cell_type": "markdown",
      "metadata": {
        "id": "BDt7EdkjWUKy"
      },
      "source": [
        "### *By Gender*\n",
        "Female tend to stay on claims longer\n"
      ]
    },
    {
      "cell_type": "code",
      "metadata": {
        "id": "FSSlOoU3SQ31"
      },
      "source": [
        "g = df_test[df_test['GNDR']!=0].groupby('GNDR')\n",
        "print('1 = Female; 2 = Male')\n",
        "\n",
        "analyze_claim(g)"
      ],
      "execution_count": null,
      "outputs": []
    },
    {
      "cell_type": "markdown",
      "metadata": {
        "id": "6w8X6i9nV76r"
      },
      "source": [
        "### *By Original Precipitating ICD9 or ICD10 Diagnosis*\n",
        "- People with cancer tend to stay on claims much shorter than other diseases, and more likely to terminate due to death\n",
        "- People with Alzheimer’s and Dementia tend to stay on claims longer, due to lower chances of recovery\n",
        "- People with Injury tend to have high recovery rate early.  However, if recovery does not happen early, it becomes unlikely"
      ]
    },
    {
      "cell_type": "code",
      "metadata": {
        "id": "C7sSQrGy6DxT"
      },
      "source": [
        "g = df_test.groupby('ORIGINAL_PRECIPITATING_ICD9_OR_ICD10_DIAGNOSIS')\n",
        "analyze_claim(g)"
      ],
      "execution_count": null,
      "outputs": []
    },
    {
      "cell_type": "markdown",
      "metadata": {
        "id": "I9KRJUcBYeA7"
      },
      "source": [
        "### *By Original Level of Care*\n",
        "\n",
        "People in Assisted Living Facility tend to have low recovery rate and stay on claim longer, this may be partly explained by Assisted Living Facility having higer percentage of 'Alzheimer’s and Dementia' patients  (~50%, compared to ~24% for NH and Home Care), and lower percentage of 'Cancer' patients (3%, versus 13% for NH and Home Care).\n"
      ]
    },
    {
      "cell_type": "code",
      "metadata": {
        "id": "9viO1VaPYpvH"
      },
      "source": [
        "g = df_test.groupby('ORIGINAL_LEVEL_OF_CARE_FOR_THIS_CLAIM')\n",
        "print('0 = Unknown; 1 = Nursing Facility; 2 = Assisted Living Facility; 3 = Home Care')\n",
        "\n",
        "analyze_claim(g)"
      ],
      "execution_count": null,
      "outputs": []
    },
    {
      "cell_type": "code",
      "metadata": {
        "id": "gK9ZUeEBhCWU"
      },
      "source": [
        "g = df_test.groupby(['ORIGINAL_LEVEL_OF_CARE_FOR_THIS_CLAIM','ORIGINAL_PRECIPITATING_ICD9_OR_ICD10_DIAGNOSIS']).size()\n",
        "g/g.groupby(level=0).sum()"
      ],
      "execution_count": null,
      "outputs": []
    },
    {
      "cell_type": "markdown",
      "metadata": {
        "id": "rH_90PRjhPHF"
      },
      "source": [
        "### *By Cognitive_Impairment*\n",
        "\n",
        "The probability of recovering from cognitive impairement is low, and those claims tend to last longer "
      ]
    },
    {
      "cell_type": "code",
      "metadata": {
        "id": "jxNQX_4ChXee"
      },
      "source": [
        "g = df_test.groupby('COGNITIVE_IMPAIRMENT')\n",
        "print('0 = Unknown; 1 = Yes; 2 = No')\n",
        "\n",
        "analyze_claim(g)"
      ],
      "execution_count": null,
      "outputs": []
    },
    {
      "cell_type": "markdown",
      "metadata": {
        "id": "2_10iDYBMYJb"
      },
      "source": [
        "### *By Issue Year*\n",
        "\n",
        "[Check potential left censored issue]"
      ]
    },
    {
      "cell_type": "code",
      "metadata": {
        "id": "ZZ-KDZ6uMcfI"
      },
      "source": [
        "g = df_test.groupby('EraBand')\n",
        "\n",
        "analyze_claim(g)"
      ],
      "execution_count": null,
      "outputs": []
    },
    {
      "cell_type": "code",
      "metadata": {
        "id": "founeCdhM2my"
      },
      "source": [
        "g.size()\n",
        "g['Incur_Age'].mean()"
      ],
      "execution_count": null,
      "outputs": []
    },
    {
      "cell_type": "code",
      "metadata": {
        "id": "S5Fdk39XODrL"
      },
      "source": [
        "g = df_test.groupby(['EraBand','ORIGINAL_PRECIPITATING_ICD9_OR_ICD10_DIAGNOSIS']).size()\n",
        "g/g.groupby(level=0).sum()"
      ],
      "execution_count": null,
      "outputs": []
    },
    {
      "cell_type": "markdown",
      "metadata": {
        "id": "AMuoSDfdgXse"
      },
      "source": [
        "# References\n",
        "\n",
        "* Changhee Lee, William R. Zame, Jinsung Yoon, Mihaela van der Schaar. \"DeepHit: A Deep Learning Approach to Survival Analysis with Competing Risks\". 2018 http://medianetlab.ee.ucla.edu/papers/AAAI_2018_DeepHit  \n",
        "* Laura Löschmann, Daria Smorodina. \"Deep Learning for Survival Analysis\". 2020 https://humboldt-wi.github.io/blog/research/information_systems_1920/group2_survivalanalysis/\n",
        "* What is Harrell’s C-index? https://statisticaloddsandends.wordpress.com/2019/10/26/what-is-harrells-c-index/"
      ]
    }
  ]
}